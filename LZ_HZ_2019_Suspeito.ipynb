{
  "nbformat": 4,
  "nbformat_minor": 2,
  "cells": [
    {
      "cell_type": "code",
      "execution_count": 1,
      "outputs": [
        {
          "output_type": "display_data",
          "data": {
            "application/vnd.livy.statement-meta+json": {
              "spark_pool": "tcccibele",
              "session_id": 9,
              "statement_id": 1,
              "state": "finished",
              "livy_statement_state": "available",
              "queued_time": "2021-11-20T19:21:37.1060443Z",
              "session_start_time": "2021-11-20T19:21:37.1417003Z",
              "execution_start_time": "2021-11-20T19:22:24.3335925Z",
              "execution_finish_time": "2021-11-20T19:22:24.4779972Z"
            },
            "text/plain": "StatementMeta(tcccibele, 9, 1, Finished, Available)"
          },
          "metadata": {}
        }
      ],
      "metadata": {
        "jupyter": {
          "source_hidden": false,
          "outputs_hidden": false
        },
        "nteract": {
          "transient": {
            "deleting": false
          }
        }
      },
      "source": [
        "from pyspark.sql.types import StructField, StructType, IntegerType, StringType\r\n",
        "from pyspark.sql import functions as f"
      ]
    },
    {
      "cell_type": "code",
      "execution_count": 2,
      "outputs": [
        {
          "output_type": "display_data",
          "data": {
            "application/vnd.livy.statement-meta+json": {
              "spark_pool": "tcccibele",
              "session_id": 9,
              "statement_id": 2,
              "state": "finished",
              "livy_statement_state": "available",
              "queued_time": "2021-11-20T19:21:37.1115191Z",
              "session_start_time": null,
              "execution_start_time": "2021-11-20T19:22:24.5735862Z",
              "execution_finish_time": "2021-11-20T19:22:24.7135185Z"
            },
            "text/plain": "StatementMeta(tcccibele, 9, 2, Finished, Available)"
          },
          "metadata": {}
        }
      ],
      "metadata": {},
      "source": [
        "# Definir schema do arquivo\r\n",
        "schema = StructType([ \r\n",
        "    StructField(\"None\", StringType(), True), \r\n",
        "    StructField(\"Suspeito\", StringType(), True), \r\n",
        "    StructField(\"Janeiro\", StringType(), True), \r\n",
        "    StructField(\"Fevereiro\", StringType(), True), \r\n",
        "    StructField(\"Março\", StringType(), True), \r\n",
        "    StructField(\"Abril\", StringType(), True), \r\n",
        "    StructField(\"Maio\", StringType(), True), \r\n",
        "    StructField(\"Junho\", StringType(), True), \r\n",
        "    StructField(\"Julho\", StringType(), True), \r\n",
        "    StructField(\"Agosto\", StringType(), True), \r\n",
        "    StructField(\"Setembro\", StringType(), True), \r\n",
        "    StructField(\"Outubro\", StringType(), True), \r\n",
        "    StructField(\"Novembro\", StringType(), True), \r\n",
        "    StructField(\"Dezembro\", StringType(), True), \r\n",
        "    StructField(\"Total\", StringType(), True)\r\n",
        "])"
      ]
    },
    {
      "cell_type": "code",
      "execution_count": 3,
      "outputs": [
        {
          "output_type": "display_data",
          "data": {
            "application/vnd.livy.statement-meta+json": {
              "spark_pool": "tcccibele",
              "session_id": 9,
              "statement_id": 3,
              "state": "finished",
              "livy_statement_state": "available",
              "queued_time": "2021-11-20T19:21:37.1161438Z",
              "session_start_time": null,
              "execution_start_time": "2021-11-20T19:22:24.8047267Z",
              "execution_finish_time": "2021-11-20T19:22:31.5753214Z"
            },
            "text/plain": "StatementMeta(tcccibele, 9, 3, Finished, Available)"
          },
          "metadata": {}
        }
      ],
      "metadata": {
        "jupyter": {
          "source_hidden": false,
          "outputs_hidden": false
        },
        "nteract": {
          "transient": {
            "deleting": false
          }
        }
      },
      "source": [
        "# Ler arquivo de origem da landing zone\r\n",
        "df = spark.read.format(\"csv\") \\\r\n",
        "            .schema(schema) \\\r\n",
        "            .options(quote='\"') \\\r\n",
        "            .load('/landing_zone/2019/Balanco-2019-Ligue180-Suspeito.csv')"
      ]
    },
    {
      "cell_type": "code",
      "execution_count": 4,
      "outputs": [
        {
          "output_type": "display_data",
          "data": {
            "application/vnd.livy.statement-meta+json": {
              "spark_pool": "tcccibele",
              "session_id": 9,
              "statement_id": 4,
              "state": "finished",
              "livy_statement_state": "available",
              "queued_time": "2021-11-20T19:21:37.1213863Z",
              "session_start_time": null,
              "execution_start_time": "2021-11-20T19:22:31.6806868Z",
              "execution_finish_time": "2021-11-20T19:22:32.1701366Z"
            },
            "text/plain": "StatementMeta(tcccibele, 9, 4, Finished, Available)"
          },
          "metadata": {}
        }
      ],
      "metadata": {
        "jupyter": {
          "source_hidden": false,
          "outputs_hidden": false
        },
        "nteract": {
          "transient": {
            "deleting": false
          }
        }
      },
      "source": [
        "# Remover colunas e linhas sem valor para o data lake\r\n",
        "df = df.where((df[1].isNotNull()) \\\r\n",
        "                & (df[1] != 'Total') \\\r\n",
        "                & (df[-1] != 'Total 2019') \\\r\n",
        "                & (df[-1].isNotNull()))\r\n",
        "df = df.drop('None')\r\n",
        "df = df.drop('Total')"
      ]
    },
    {
      "cell_type": "code",
      "execution_count": 5,
      "outputs": [
        {
          "output_type": "display_data",
          "data": {
            "application/vnd.livy.statement-meta+json": {
              "spark_pool": "tcccibele",
              "session_id": 9,
              "statement_id": 5,
              "state": "finished",
              "livy_statement_state": "available",
              "queued_time": "2021-11-20T19:21:37.128608Z",
              "session_start_time": null,
              "execution_start_time": "2021-11-20T19:22:32.2620837Z",
              "execution_finish_time": "2021-11-20T19:22:33.3292932Z"
            },
            "text/plain": "StatementMeta(tcccibele, 9, 5, Finished, Available)"
          },
          "metadata": {}
        }
      ],
      "metadata": {
        "jupyter": {
          "source_hidden": false,
          "outputs_hidden": false
        },
        "nteract": {
          "transient": {
            "deleting": false
          }
        }
      },
      "source": [
        "# Remover \",\" de todos os campos e substitui null por 0\r\n",
        "names = df.schema.names\r\n",
        "for name in names:\r\n",
        "    if name == 'Suspeito':\r\n",
        "        continue\r\n",
        "    df = df.withColumn(name,f.regexp_replace(name,',',''))\r\n",
        "    df = df.withColumn(name, df[name].cast(IntegerType()))\r\n",
        "\r\n",
        "df = df.fillna(0)"
      ]
    },
    {
      "cell_type": "code",
      "execution_count": 6,
      "outputs": [
        {
          "output_type": "display_data",
          "data": {
            "application/vnd.livy.statement-meta+json": {
              "spark_pool": "tcccibele",
              "session_id": 9,
              "statement_id": 6,
              "state": "finished",
              "livy_statement_state": "available",
              "queued_time": "2021-11-20T19:21:37.1316261Z",
              "session_start_time": null,
              "execution_start_time": "2021-11-20T19:22:33.4222805Z",
              "execution_finish_time": "2021-11-20T19:22:50.0053722Z"
            },
            "text/plain": "StatementMeta(tcccibele, 9, 6, Finished, Available)"
          },
          "metadata": {}
        }
      ],
      "metadata": {
        "jupyter": {
          "source_hidden": false,
          "outputs_hidden": false
        },
        "nteract": {
          "transient": {
            "deleting": false
          }
        }
      },
      "source": [
        "# Escrever dados limpos em formato parque no azure storage\r\n",
        "df.write.format('parquet').mode('overwrite').save('/history_zone/2019/Suspeito/')"
      ]
    },
    {
      "cell_type": "code",
      "execution_count": 7,
      "outputs": [
        {
          "output_type": "display_data",
          "data": {
            "application/vnd.livy.statement-meta+json": {
              "spark_pool": "tcccibele",
              "session_id": 9,
              "statement_id": 7,
              "state": "finished",
              "livy_statement_state": "available",
              "queued_time": "2021-11-20T19:21:37.1355261Z",
              "session_start_time": null,
              "execution_start_time": "2021-11-20T19:22:50.0925845Z",
              "execution_finish_time": "2021-11-20T19:22:54.3852569Z"
            },
            "text/plain": "StatementMeta(tcccibele, 9, 7, Finished, Available)"
          },
          "metadata": {}
        },
        {
          "output_type": "display_data",
          "data": {
            "text/plain": "                                             Suspeito  ...  Dezembro\n0                                              Amante  ...         0\n1                                            Amigo(a)  ...        17\n2                                                 Avó  ...         4\n3                                                 Avô  ...         3\n4                                          Bisneto(a)  ...         1\n5                                               Chefa  ...         0\n6                                               Chefe  ...         6\n7                                  Colega de trabalho  ...         0\n8                                     Companheiro (a)  ...       999\n9                                       Conhecido (a)  ...         0\n10                                            Cônjuge  ...       403\n11                                       Cuidador (a)  ...         2\n12                                         Cunhado(a)  ...        45\n13                                    Desconhecido(a)  ...       116\n14                               Diretor(a) de escola  ...         0\n15                    Diretor(a) de Unidade Prisional  ...         0\n16                                      Empregado (a)  ...         2\n17                                         Empregador  ...         6\n18                                         Enteado(a)  ...         8\n19                                 Ex Companheiro (a)  ...       601\n20                                         Ex Cônjuge  ...       150\n21                                    Ex Namorado (a)  ...       172\n22                                         Familiares  ...        13\n23                                          Filho (a)  ...       279\n24                                         Genro/Nora  ...        16\n25                                          Irmão (ã)  ...       113\n26                                    Líder Religioso  ...         1\n27                                           Madrasta  ...         0\n28                                                Mãe  ...        28\n29                                        Namorado(a)  ...        68\n30                                      Não Informado  ...       205\n31                                            Neto(a)  ...        17\n32                                              Outro  ...         0\n33                                           Padrasto  ...        12\n34                                  Padrinho/Madrinha  ...         0\n35                                                Pai  ...        41\n36                                           Parentes  ...         0\n37                                           Primo(a)  ...        15\n38                                       Professor(a)  ...         3\n39                              Profissional da Saúde  ...         0\n40                  Profissional da Segurança Pública  ...         0\n41                                     Própria vítima  ...         1\n42  Proprietário (a) do imóvel em que a vítima reside  ...         0\n43                                        Sobrinho(a)  ...        17\n44                                           Sogro(a)  ...         6\n45                                        Subordinado  ...         0\n46                                            Tio (a)  ...        23\n47                                        Vizinho (a)  ...       159\n\n[48 rows x 13 columns]",
            "text/html": "<div>\n<style scoped>\n    .dataframe tbody tr th:only-of-type {\n        vertical-align: middle;\n    }\n\n    .dataframe tbody tr th {\n        vertical-align: top;\n    }\n\n    .dataframe thead th {\n        text-align: right;\n    }\n</style>\n<table border=\"1\" class=\"dataframe\">\n  <thead>\n    <tr style=\"text-align: right;\">\n      <th></th>\n      <th>Suspeito</th>\n      <th>Janeiro</th>\n      <th>Fevereiro</th>\n      <th>Março</th>\n      <th>Abril</th>\n      <th>Maio</th>\n      <th>Junho</th>\n      <th>Julho</th>\n      <th>Agosto</th>\n      <th>Setembro</th>\n      <th>Outubro</th>\n      <th>Novembro</th>\n      <th>Dezembro</th>\n    </tr>\n  </thead>\n  <tbody>\n    <tr>\n      <th>0</th>\n      <td>Amante</td>\n      <td>0</td>\n      <td>0</td>\n      <td>0</td>\n      <td>0</td>\n      <td>0</td>\n      <td>0</td>\n      <td>0</td>\n      <td>0</td>\n      <td>0</td>\n      <td>0</td>\n      <td>0</td>\n      <td>0</td>\n    </tr>\n    <tr>\n      <th>1</th>\n      <td>Amigo(a)</td>\n      <td>78</td>\n      <td>59</td>\n      <td>62</td>\n      <td>57</td>\n      <td>42</td>\n      <td>39</td>\n      <td>36</td>\n      <td>56</td>\n      <td>35</td>\n      <td>44</td>\n      <td>33</td>\n      <td>17</td>\n    </tr>\n    <tr>\n      <th>2</th>\n      <td>Avó</td>\n      <td>11</td>\n      <td>15</td>\n      <td>4</td>\n      <td>8</td>\n      <td>11</td>\n      <td>4</td>\n      <td>3</td>\n      <td>3</td>\n      <td>8</td>\n      <td>2</td>\n      <td>3</td>\n      <td>4</td>\n    </tr>\n    <tr>\n      <th>3</th>\n      <td>Avô</td>\n      <td>3</td>\n      <td>3</td>\n      <td>1</td>\n      <td>5</td>\n      <td>3</td>\n      <td>4</td>\n      <td>2</td>\n      <td>5</td>\n      <td>3</td>\n      <td>6</td>\n      <td>4</td>\n      <td>3</td>\n    </tr>\n    <tr>\n      <th>4</th>\n      <td>Bisneto(a)</td>\n      <td>2</td>\n      <td>9</td>\n      <td>3</td>\n      <td>1</td>\n      <td>0</td>\n      <td>1</td>\n      <td>1</td>\n      <td>1</td>\n      <td>0</td>\n      <td>0</td>\n      <td>1</td>\n      <td>1</td>\n    </tr>\n    <tr>\n      <th>5</th>\n      <td>Chefa</td>\n      <td>0</td>\n      <td>0</td>\n      <td>0</td>\n      <td>0</td>\n      <td>0</td>\n      <td>0</td>\n      <td>0</td>\n      <td>0</td>\n      <td>0</td>\n      <td>0</td>\n      <td>0</td>\n      <td>0</td>\n    </tr>\n    <tr>\n      <th>6</th>\n      <td>Chefe</td>\n      <td>0</td>\n      <td>0</td>\n      <td>7</td>\n      <td>15</td>\n      <td>10</td>\n      <td>11</td>\n      <td>8</td>\n      <td>16</td>\n      <td>11</td>\n      <td>15</td>\n      <td>12</td>\n      <td>6</td>\n    </tr>\n    <tr>\n      <th>7</th>\n      <td>Colega de trabalho</td>\n      <td>0</td>\n      <td>0</td>\n      <td>0</td>\n      <td>0</td>\n      <td>0</td>\n      <td>0</td>\n      <td>0</td>\n      <td>0</td>\n      <td>0</td>\n      <td>0</td>\n      <td>0</td>\n      <td>0</td>\n    </tr>\n    <tr>\n      <th>8</th>\n      <td>Companheiro (a)</td>\n      <td>2746</td>\n      <td>2191</td>\n      <td>2296</td>\n      <td>2223</td>\n      <td>2220</td>\n      <td>1863</td>\n      <td>2008</td>\n      <td>2317</td>\n      <td>2158</td>\n      <td>2327</td>\n      <td>1998</td>\n      <td>999</td>\n    </tr>\n    <tr>\n      <th>9</th>\n      <td>Conhecido (a)</td>\n      <td>0</td>\n      <td>0</td>\n      <td>0</td>\n      <td>0</td>\n      <td>0</td>\n      <td>0</td>\n      <td>0</td>\n      <td>0</td>\n      <td>0</td>\n      <td>0</td>\n      <td>0</td>\n      <td>0</td>\n    </tr>\n    <tr>\n      <th>10</th>\n      <td>Cônjuge</td>\n      <td>985</td>\n      <td>736</td>\n      <td>906</td>\n      <td>728</td>\n      <td>775</td>\n      <td>704</td>\n      <td>695</td>\n      <td>831</td>\n      <td>763</td>\n      <td>787</td>\n      <td>801</td>\n      <td>403</td>\n    </tr>\n    <tr>\n      <th>11</th>\n      <td>Cuidador (a)</td>\n      <td>15</td>\n      <td>10</td>\n      <td>12</td>\n      <td>5</td>\n      <td>6</td>\n      <td>8</td>\n      <td>3</td>\n      <td>5</td>\n      <td>2</td>\n      <td>7</td>\n      <td>5</td>\n      <td>2</td>\n    </tr>\n    <tr>\n      <th>12</th>\n      <td>Cunhado(a)</td>\n      <td>154</td>\n      <td>124</td>\n      <td>127</td>\n      <td>121</td>\n      <td>127</td>\n      <td>110</td>\n      <td>104</td>\n      <td>107</td>\n      <td>92</td>\n      <td>114</td>\n      <td>96</td>\n      <td>45</td>\n    </tr>\n    <tr>\n      <th>13</th>\n      <td>Desconhecido(a)</td>\n      <td>397</td>\n      <td>311</td>\n      <td>308</td>\n      <td>267</td>\n      <td>286</td>\n      <td>254</td>\n      <td>221</td>\n      <td>318</td>\n      <td>341</td>\n      <td>302</td>\n      <td>262</td>\n      <td>116</td>\n    </tr>\n    <tr>\n      <th>14</th>\n      <td>Diretor(a) de escola</td>\n      <td>1</td>\n      <td>4</td>\n      <td>1</td>\n      <td>3</td>\n      <td>1</td>\n      <td>2</td>\n      <td>1</td>\n      <td>0</td>\n      <td>0</td>\n      <td>0</td>\n      <td>2</td>\n      <td>0</td>\n    </tr>\n    <tr>\n      <th>15</th>\n      <td>Diretor(a) de Unidade Prisional</td>\n      <td>0</td>\n      <td>0</td>\n      <td>0</td>\n      <td>0</td>\n      <td>1</td>\n      <td>0</td>\n      <td>0</td>\n      <td>2</td>\n      <td>0</td>\n      <td>0</td>\n      <td>1</td>\n      <td>0</td>\n    </tr>\n    <tr>\n      <th>16</th>\n      <td>Empregado (a)</td>\n      <td>6</td>\n      <td>6</td>\n      <td>4</td>\n      <td>3</td>\n      <td>3</td>\n      <td>6</td>\n      <td>5</td>\n      <td>4</td>\n      <td>2</td>\n      <td>1</td>\n      <td>5</td>\n      <td>2</td>\n    </tr>\n    <tr>\n      <th>17</th>\n      <td>Empregador</td>\n      <td>44</td>\n      <td>32</td>\n      <td>29</td>\n      <td>11</td>\n      <td>10</td>\n      <td>8</td>\n      <td>7</td>\n      <td>12</td>\n      <td>11</td>\n      <td>8</td>\n      <td>10</td>\n      <td>6</td>\n    </tr>\n    <tr>\n      <th>18</th>\n      <td>Enteado(a)</td>\n      <td>24</td>\n      <td>16</td>\n      <td>15</td>\n      <td>26</td>\n      <td>15</td>\n      <td>17</td>\n      <td>14</td>\n      <td>11</td>\n      <td>13</td>\n      <td>22</td>\n      <td>18</td>\n      <td>8</td>\n    </tr>\n    <tr>\n      <th>19</th>\n      <td>Ex Companheiro (a)</td>\n      <td>1378</td>\n      <td>1089</td>\n      <td>1254</td>\n      <td>1080</td>\n      <td>1071</td>\n      <td>917</td>\n      <td>1047</td>\n      <td>1147</td>\n      <td>1188</td>\n      <td>1115</td>\n      <td>1036</td>\n      <td>601</td>\n    </tr>\n    <tr>\n      <th>20</th>\n      <td>Ex Cônjuge</td>\n      <td>313</td>\n      <td>246</td>\n      <td>308</td>\n      <td>224</td>\n      <td>238</td>\n      <td>239</td>\n      <td>216</td>\n      <td>273</td>\n      <td>236</td>\n      <td>222</td>\n      <td>224</td>\n      <td>150</td>\n    </tr>\n    <tr>\n      <th>21</th>\n      <td>Ex Namorado (a)</td>\n      <td>386</td>\n      <td>340</td>\n      <td>372</td>\n      <td>337</td>\n      <td>306</td>\n      <td>242</td>\n      <td>278</td>\n      <td>310</td>\n      <td>323</td>\n      <td>274</td>\n      <td>303</td>\n      <td>172</td>\n    </tr>\n    <tr>\n      <th>22</th>\n      <td>Familiares</td>\n      <td>38</td>\n      <td>28</td>\n      <td>23</td>\n      <td>21</td>\n      <td>26</td>\n      <td>17</td>\n      <td>14</td>\n      <td>26</td>\n      <td>18</td>\n      <td>23</td>\n      <td>24</td>\n      <td>13</td>\n    </tr>\n    <tr>\n      <th>23</th>\n      <td>Filho (a)</td>\n      <td>795</td>\n      <td>619</td>\n      <td>588</td>\n      <td>506</td>\n      <td>488</td>\n      <td>403</td>\n      <td>417</td>\n      <td>476</td>\n      <td>452</td>\n      <td>471</td>\n      <td>451</td>\n      <td>279</td>\n    </tr>\n    <tr>\n      <th>24</th>\n      <td>Genro/Nora</td>\n      <td>75</td>\n      <td>52</td>\n      <td>61</td>\n      <td>37</td>\n      <td>44</td>\n      <td>44</td>\n      <td>34</td>\n      <td>57</td>\n      <td>46</td>\n      <td>61</td>\n      <td>41</td>\n      <td>16</td>\n    </tr>\n    <tr>\n      <th>25</th>\n      <td>Irmão (ã)</td>\n      <td>332</td>\n      <td>278</td>\n      <td>262</td>\n      <td>235</td>\n      <td>218</td>\n      <td>204</td>\n      <td>216</td>\n      <td>254</td>\n      <td>241</td>\n      <td>240</td>\n      <td>210</td>\n      <td>113</td>\n    </tr>\n    <tr>\n      <th>26</th>\n      <td>Líder Religioso</td>\n      <td>14</td>\n      <td>7</td>\n      <td>4</td>\n      <td>9</td>\n      <td>3</td>\n      <td>0</td>\n      <td>2</td>\n      <td>2</td>\n      <td>3</td>\n      <td>2</td>\n      <td>2</td>\n      <td>1</td>\n    </tr>\n    <tr>\n      <th>27</th>\n      <td>Madrasta</td>\n      <td>5</td>\n      <td>8</td>\n      <td>4</td>\n      <td>5</td>\n      <td>3</td>\n      <td>3</td>\n      <td>4</td>\n      <td>2</td>\n      <td>6</td>\n      <td>4</td>\n      <td>4</td>\n      <td>0</td>\n    </tr>\n    <tr>\n      <th>28</th>\n      <td>Mãe</td>\n      <td>88</td>\n      <td>102</td>\n      <td>102</td>\n      <td>76</td>\n      <td>92</td>\n      <td>61</td>\n      <td>62</td>\n      <td>58</td>\n      <td>75</td>\n      <td>67</td>\n      <td>56</td>\n      <td>28</td>\n    </tr>\n    <tr>\n      <th>29</th>\n      <td>Namorado(a)</td>\n      <td>198</td>\n      <td>134</td>\n      <td>194</td>\n      <td>149</td>\n      <td>175</td>\n      <td>176</td>\n      <td>152</td>\n      <td>155</td>\n      <td>153</td>\n      <td>147</td>\n      <td>180</td>\n      <td>68</td>\n    </tr>\n    <tr>\n      <th>30</th>\n      <td>Não Informado</td>\n      <td>660</td>\n      <td>565</td>\n      <td>616</td>\n      <td>440</td>\n      <td>521</td>\n      <td>422</td>\n      <td>373</td>\n      <td>626</td>\n      <td>604</td>\n      <td>480</td>\n      <td>421</td>\n      <td>205</td>\n    </tr>\n    <tr>\n      <th>31</th>\n      <td>Neto(a)</td>\n      <td>60</td>\n      <td>34</td>\n      <td>50</td>\n      <td>30</td>\n      <td>36</td>\n      <td>25</td>\n      <td>36</td>\n      <td>26</td>\n      <td>39</td>\n      <td>34</td>\n      <td>27</td>\n      <td>17</td>\n    </tr>\n    <tr>\n      <th>32</th>\n      <td>Outro</td>\n      <td>0</td>\n      <td>0</td>\n      <td>0</td>\n      <td>0</td>\n      <td>0</td>\n      <td>0</td>\n      <td>0</td>\n      <td>0</td>\n      <td>0</td>\n      <td>0</td>\n      <td>0</td>\n      <td>0</td>\n    </tr>\n    <tr>\n      <th>33</th>\n      <td>Padrasto</td>\n      <td>49</td>\n      <td>31</td>\n      <td>51</td>\n      <td>23</td>\n      <td>22</td>\n      <td>33</td>\n      <td>22</td>\n      <td>28</td>\n      <td>24</td>\n      <td>29</td>\n      <td>23</td>\n      <td>12</td>\n    </tr>\n    <tr>\n      <th>34</th>\n      <td>Padrinho/Madrinha</td>\n      <td>0</td>\n      <td>1</td>\n      <td>1</td>\n      <td>0</td>\n      <td>0</td>\n      <td>2</td>\n      <td>0</td>\n      <td>1</td>\n      <td>1</td>\n      <td>1</td>\n      <td>1</td>\n      <td>0</td>\n    </tr>\n    <tr>\n      <th>35</th>\n      <td>Pai</td>\n      <td>83</td>\n      <td>70</td>\n      <td>62</td>\n      <td>74</td>\n      <td>74</td>\n      <td>56</td>\n      <td>53</td>\n      <td>75</td>\n      <td>79</td>\n      <td>82</td>\n      <td>55</td>\n      <td>41</td>\n    </tr>\n    <tr>\n      <th>36</th>\n      <td>Parentes</td>\n      <td>0</td>\n      <td>0</td>\n      <td>0</td>\n      <td>0</td>\n      <td>0</td>\n      <td>0</td>\n      <td>0</td>\n      <td>0</td>\n      <td>0</td>\n      <td>0</td>\n      <td>0</td>\n      <td>0</td>\n    </tr>\n    <tr>\n      <th>37</th>\n      <td>Primo(a)</td>\n      <td>46</td>\n      <td>33</td>\n      <td>28</td>\n      <td>36</td>\n      <td>21</td>\n      <td>23</td>\n      <td>19</td>\n      <td>27</td>\n      <td>21</td>\n      <td>20</td>\n      <td>25</td>\n      <td>15</td>\n    </tr>\n    <tr>\n      <th>38</th>\n      <td>Professor(a)</td>\n      <td>0</td>\n      <td>2</td>\n      <td>5</td>\n      <td>3</td>\n      <td>3</td>\n      <td>1</td>\n      <td>3</td>\n      <td>3</td>\n      <td>3</td>\n      <td>8</td>\n      <td>6</td>\n      <td>3</td>\n    </tr>\n    <tr>\n      <th>39</th>\n      <td>Profissional da Saúde</td>\n      <td>0</td>\n      <td>0</td>\n      <td>0</td>\n      <td>0</td>\n      <td>0</td>\n      <td>0</td>\n      <td>0</td>\n      <td>0</td>\n      <td>0</td>\n      <td>0</td>\n      <td>0</td>\n      <td>0</td>\n    </tr>\n    <tr>\n      <th>40</th>\n      <td>Profissional da Segurança Pública</td>\n      <td>0</td>\n      <td>0</td>\n      <td>0</td>\n      <td>0</td>\n      <td>0</td>\n      <td>0</td>\n      <td>0</td>\n      <td>0</td>\n      <td>0</td>\n      <td>0</td>\n      <td>0</td>\n      <td>0</td>\n    </tr>\n    <tr>\n      <th>41</th>\n      <td>Própria vítima</td>\n      <td>1</td>\n      <td>0</td>\n      <td>1</td>\n      <td>1</td>\n      <td>0</td>\n      <td>0</td>\n      <td>0</td>\n      <td>0</td>\n      <td>1</td>\n      <td>0</td>\n      <td>0</td>\n      <td>1</td>\n    </tr>\n    <tr>\n      <th>42</th>\n      <td>Proprietário (a) do imóvel em que a vítima reside</td>\n      <td>0</td>\n      <td>0</td>\n      <td>0</td>\n      <td>0</td>\n      <td>0</td>\n      <td>0</td>\n      <td>0</td>\n      <td>0</td>\n      <td>0</td>\n      <td>0</td>\n      <td>0</td>\n      <td>0</td>\n    </tr>\n    <tr>\n      <th>43</th>\n      <td>Sobrinho(a)</td>\n      <td>52</td>\n      <td>51</td>\n      <td>49</td>\n      <td>25</td>\n      <td>49</td>\n      <td>27</td>\n      <td>31</td>\n      <td>39</td>\n      <td>31</td>\n      <td>27</td>\n      <td>22</td>\n      <td>17</td>\n    </tr>\n    <tr>\n      <th>44</th>\n      <td>Sogro(a)</td>\n      <td>28</td>\n      <td>27</td>\n      <td>20</td>\n      <td>28</td>\n      <td>26</td>\n      <td>26</td>\n      <td>24</td>\n      <td>30</td>\n      <td>21</td>\n      <td>19</td>\n      <td>21</td>\n      <td>6</td>\n    </tr>\n    <tr>\n      <th>45</th>\n      <td>Subordinado</td>\n      <td>4</td>\n      <td>0</td>\n      <td>2</td>\n      <td>1</td>\n      <td>0</td>\n      <td>1</td>\n      <td>1</td>\n      <td>1</td>\n      <td>2</td>\n      <td>1</td>\n      <td>2</td>\n      <td>0</td>\n    </tr>\n    <tr>\n      <th>46</th>\n      <td>Tio (a)</td>\n      <td>67</td>\n      <td>57</td>\n      <td>34</td>\n      <td>32</td>\n      <td>39</td>\n      <td>45</td>\n      <td>33</td>\n      <td>38</td>\n      <td>41</td>\n      <td>26</td>\n      <td>27</td>\n      <td>23</td>\n    </tr>\n    <tr>\n      <th>47</th>\n      <td>Vizinho (a)</td>\n      <td>411</td>\n      <td>379</td>\n      <td>574</td>\n      <td>398</td>\n      <td>344</td>\n      <td>302</td>\n      <td>297</td>\n      <td>286</td>\n      <td>265</td>\n      <td>292</td>\n      <td>276</td>\n      <td>159</td>\n    </tr>\n  </tbody>\n</table>\n</div>"
          },
          "metadata": {}
        }
      ],
      "metadata": {
        "jupyter": {
          "source_hidden": false,
          "outputs_hidden": false
        },
        "nteract": {
          "transient": {
            "deleting": false
          }
        }
      },
      "source": [
        "df = spark.read.parquet('/history_zone/2019/Suspeito/')\r\n",
        "df.toPandas()"
      ]
    }
  ],
  "metadata": {
    "description": null,
    "save_output": true,
    "kernelspec": {
      "name": "synapse_pyspark",
      "display_name": "Synapse PySpark"
    },
    "language_info": {
      "name": "python"
    },
    "synapse_widget": {
      "version": "0.1",
      "state": {}
    }
  }
}