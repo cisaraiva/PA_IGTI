{
  "cells": [
    {
      "cell_type": "code",
      "source": [
        "from pyspark.sql.types import StructField, StructType, IntegerType, StringType\r\n",
        "from pyspark.sql import functions as f"
      ],
      "outputs": [
        {
          "output_type": "display_data",
          "data": {
            "application/vnd.livy.statement-meta+json": {
              "spark_pool": "tcccibele",
              "session_id": 11,
              "statement_id": 54,
              "state": "finished",
              "livy_statement_state": "available",
              "queued_time": "2021-11-20T20:32:37.24492Z",
              "session_start_time": null,
              "execution_start_time": "2021-11-20T20:32:37.3494285Z",
              "execution_finish_time": "2021-11-20T20:32:37.4932173Z"
            },
            "text/plain": "StatementMeta(tcccibele, 11, 54, Finished, Available)"
          },
          "metadata": {}
        }
      ],
      "execution_count": 54,
      "metadata": {
        "jupyter": {
          "source_hidden": false,
          "outputs_hidden": false
        },
        "nteract": {
          "transient": {
            "deleting": false
          }
        }
      }
    },
    {
      "cell_type": "code",
      "source": [
        "# Definir schema do arquivo\r\n",
        "schema = StructType([ \r\n",
        "    StructField(\"Ano\", StringType(), True), \r\n",
        "    StructField(\"Trimestre\", StringType(), True), \r\n",
        "    StructField(\"Mes\", StringType(), True), \r\n",
        "    StructField(\"Dia\", StringType(), True), \r\n",
        "    StructField(\"TipoViolacao\", StringType(), True), \r\n",
        "    StructField(\"GrupoVulneravel\", StringType(), True), \r\n",
        "    StructField(\"EspecieViolacao\", StringType(), True), \r\n",
        "    StructField(\"PaisOrigemVitima\", StringType(), True), \r\n",
        "    StructField(\"UF\", StringType(), True), \r\n",
        "    StructField(\"CanalAtendimento\", StringType(), True), \r\n",
        "    StructField(\"DenunciaEmergencial\", StringType(), True), \r\n",
        "    StructField(\"Denunciante\", StringType(), True), \r\n",
        "    StructField(\"Motivacao\", StringType(), True), \r\n",
        "    StructField(\"CenarioViolacao\", StringType(), True), \r\n",
        "    StructField(\"Agravantes\", StringType(), True), \r\n",
        "    StructField(\"AgravantesPoliciais\", StringType(), True),\r\n",
        "    StructField(\"RelacaoVitimaSuspeito\", StringType(), True),\r\n",
        "    StructField(\"SexoVitima\", StringType(), True),\r\n",
        "    StructField(\"IdadeVitima\", StringType(), True),\r\n",
        "    StructField(\"EscolaridadeVitima\", StringType(), True),\r\n",
        "    StructField(\"RacaVitima\", StringType(), True),\r\n",
        "    StructField(\"FaixaRendaVitima\", StringType(), True),\r\n",
        "    StructField(\"NacionalidadeVitima\", StringType(), True),\r\n",
        "    StructField(\"DeficienciaVitima\", StringType(), True),\r\n",
        "    StructField(\"RelacaoDemandanteVitima\", StringType(), True),\r\n",
        "    StructField(\"SexoSuspeito\", StringType(), True),\r\n",
        "    StructField(\"IdadeSuspeito\", StringType(), True),\r\n",
        "    StructField(\"EscolaridadeSuspeito\", StringType(), True),\r\n",
        "    StructField(\"NacionalidadeSuspeito\", StringType(), True),\r\n",
        "    StructField(\"RacaSuspeito\", StringType(), True),\r\n",
        "    StructField(\"FaixaRendaSuspeito\", StringType(), True),\r\n",
        "    StructField(\"PaisOrigemSuspeito\", StringType(), True),\r\n",
        "    StructField(\"DeficienciaSuspeito\", StringType(), True)\r\n",
        "])"
      ],
      "outputs": [
        {
          "output_type": "display_data",
          "data": {
            "application/vnd.livy.statement-meta+json": {
              "spark_pool": "tcccibele",
              "session_id": 11,
              "statement_id": 55,
              "state": "finished",
              "livy_statement_state": "available",
              "queued_time": "2021-11-20T20:32:37.379291Z",
              "session_start_time": null,
              "execution_start_time": "2021-11-20T20:32:37.5815565Z",
              "execution_finish_time": "2021-11-20T20:32:37.7259319Z"
            },
            "text/plain": "StatementMeta(tcccibele, 11, 55, Finished, Available)"
          },
          "metadata": {}
        }
      ],
      "execution_count": 55,
      "metadata": {}
    },
    {
      "cell_type": "code",
      "source": [
        "# Ler arquivo de origem da landing zone\r\n",
        "df = spark.read.format(\"csv\") \\\r\n",
        "            .schema(schema) \\\r\n",
        "            .options(quote='\"', sep=';', encoding='ISO-8859-1') \\\r\n",
        "            .load('/landing_zone/2020/primeiro_semestre_2020.csv')"
      ],
      "outputs": [
        {
          "output_type": "display_data",
          "data": {
            "application/vnd.livy.statement-meta+json": {
              "spark_pool": "tcccibele",
              "session_id": 11,
              "statement_id": 56,
              "state": "finished",
              "livy_statement_state": "available",
              "queued_time": "2021-11-20T20:32:37.5977469Z",
              "session_start_time": null,
              "execution_start_time": "2021-11-20T20:32:37.8137352Z",
              "execution_finish_time": "2021-11-20T20:32:37.9681502Z"
            },
            "text/plain": "StatementMeta(tcccibele, 11, 56, Finished, Available)"
          },
          "metadata": {}
        }
      ],
      "execution_count": 56,
      "metadata": {
        "jupyter": {
          "source_hidden": false,
          "outputs_hidden": false
        },
        "nteract": {
          "transient": {
            "deleting": false
          }
        }
      }
    },
    {
      "cell_type": "code",
      "source": [
        "# Remover colunas e linhas sem valor para o data lake\r\n",
        "df = df.where((df[0].isNotNull()) \\\r\n",
        "                & (df[0] != 'Ano'))"
      ],
      "outputs": [
        {
          "output_type": "display_data",
          "data": {
            "application/vnd.livy.statement-meta+json": {
              "spark_pool": "tcccibele",
              "session_id": 11,
              "statement_id": 57,
              "state": "finished",
              "livy_statement_state": "available",
              "queued_time": "2021-11-20T20:32:38.0615815Z",
              "session_start_time": null,
              "execution_start_time": "2021-11-20T20:32:38.14909Z",
              "execution_finish_time": "2021-11-20T20:32:38.289173Z"
            },
            "text/plain": "StatementMeta(tcccibele, 11, 57, Finished, Available)"
          },
          "metadata": {}
        }
      ],
      "execution_count": 57,
      "metadata": {
        "jupyter": {
          "source_hidden": false,
          "outputs_hidden": false
        },
        "nteract": {
          "transient": {
            "deleting": false
          }
        }
      }
    },
    {
      "cell_type": "code",
      "source": [
        "# Capitalizar todos os textos e incluir 0 onde há nulos\r\n",
        "names = df.schema.names\r\n",
        "for name in names:\r\n",
        "    df = df.withColumn(name, f.initcap(f.col(name)))\r\n",
        "    #df = df.withColumn(name,f.regexp_replace(name,',',''))\r\n",
        "    #df = df.withColumn(name, df[name].cast(IntegerType()))\r\n",
        "\r\n",
        "df = df.fillna(0)"
      ],
      "outputs": [
        {
          "output_type": "display_data",
          "data": {
            "application/vnd.livy.statement-meta+json": {
              "spark_pool": "tcccibele",
              "session_id": 11,
              "statement_id": 58,
              "state": "finished",
              "livy_statement_state": "available",
              "queued_time": "2021-11-20T20:32:39.7312746Z",
              "session_start_time": null,
              "execution_start_time": "2021-11-20T20:32:39.8232739Z",
              "execution_finish_time": "2021-11-20T20:32:40.3272221Z"
            },
            "text/plain": "StatementMeta(tcccibele, 11, 58, Finished, Available)"
          },
          "metadata": {}
        }
      ],
      "execution_count": 58,
      "metadata": {
        "jupyter": {
          "source_hidden": false,
          "outputs_hidden": false
        },
        "nteract": {
          "transient": {
            "deleting": false
          }
        }
      }
    },
    {
      "cell_type": "code",
      "source": [
        "df.limit(3).toPandas()"
      ],
      "outputs": [
        {
          "output_type": "display_data",
          "data": {
            "application/vnd.livy.statement-meta+json": {
              "spark_pool": "tcccibele",
              "session_id": 11,
              "statement_id": 59,
              "state": "finished",
              "livy_statement_state": "available",
              "queued_time": "2021-11-20T20:32:40.5096368Z",
              "session_start_time": null,
              "execution_start_time": "2021-11-20T20:32:40.5995499Z",
              "execution_finish_time": "2021-11-20T20:32:41.6472779Z"
            },
            "text/plain": "StatementMeta(tcccibele, 11, 59, Finished, Available)"
          },
          "metadata": {}
        },
        {
          "output_type": "display_data",
          "data": {
            "text/plain": "    Ano Trimestre  ... PaisOrigemSuspeito DeficienciaSuspeito\n0  2020    Trim 1  ...             Brasil                 Não\n1  2020    Trim 1  ...             Brasil                 Não\n2  2020    Trim 1  ...             Brasil                 Não\n\n[3 rows x 33 columns]",
            "text/html": "<div>\n<style scoped>\n    .dataframe tbody tr th:only-of-type {\n        vertical-align: middle;\n    }\n\n    .dataframe tbody tr th {\n        vertical-align: top;\n    }\n\n    .dataframe thead th {\n        text-align: right;\n    }\n</style>\n<table border=\"1\" class=\"dataframe\">\n  <thead>\n    <tr style=\"text-align: right;\">\n      <th></th>\n      <th>Ano</th>\n      <th>Trimestre</th>\n      <th>Mes</th>\n      <th>Dia</th>\n      <th>TipoViolacao</th>\n      <th>GrupoVulneravel</th>\n      <th>EspecieViolacao</th>\n      <th>PaisOrigemVitima</th>\n      <th>UF</th>\n      <th>CanalAtendimento</th>\n      <th>DenunciaEmergencial</th>\n      <th>Denunciante</th>\n      <th>Motivacao</th>\n      <th>CenarioViolacao</th>\n      <th>Agravantes</th>\n      <th>AgravantesPoliciais</th>\n      <th>RelacaoVitimaSuspeito</th>\n      <th>SexoVitima</th>\n      <th>IdadeVitima</th>\n      <th>EscolaridadeVitima</th>\n      <th>RacaVitima</th>\n      <th>FaixaRendaVitima</th>\n      <th>NacionalidadeVitima</th>\n      <th>DeficienciaVitima</th>\n      <th>RelacaoDemandanteVitima</th>\n      <th>SexoSuspeito</th>\n      <th>IdadeSuspeito</th>\n      <th>EscolaridadeSuspeito</th>\n      <th>NacionalidadeSuspeito</th>\n      <th>RacaSuspeito</th>\n      <th>FaixaRendaSuspeito</th>\n      <th>PaisOrigemSuspeito</th>\n      <th>DeficienciaSuspeito</th>\n    </tr>\n  </thead>\n  <tbody>\n    <tr>\n      <th>0</th>\n      <td>2020</td>\n      <td>Trim 1</td>\n      <td>Janeiro</td>\n      <td>1</td>\n      <td>2. Violência Psicológica</td>\n      <td>1-violência Contra A Mulher</td>\n      <td>Tortura Psíquica</td>\n      <td>Brasil</td>\n      <td>Al</td>\n      <td>Denúncia - Atendimento Telefônico</td>\n      <td>Não</td>\n      <td>O Próprio Agressor</td>\n      <td>N/d</td>\n      <td>Via Pública</td>\n      <td>Em Público - Outras Pessoas Presenciam As Agre...</td>\n      <td>N/d</td>\n      <td>N/d</td>\n      <td>N/d</td>\n      <td>N/d</td>\n      <td>N/d</td>\n      <td>N/d</td>\n      <td>N/d</td>\n      <td>N/d</td>\n      <td>N/d</td>\n      <td>N/d</td>\n      <td>Masculino</td>\n      <td>37 Anos</td>\n      <td>Ensino Fundamental Incompleto</td>\n      <td>Brasileiro(a)</td>\n      <td>Parda</td>\n      <td>Até 1 Salário Mínimo</td>\n      <td>Brasil</td>\n      <td>Não</td>\n    </tr>\n    <tr>\n      <th>1</th>\n      <td>2020</td>\n      <td>Trim 1</td>\n      <td>Janeiro</td>\n      <td>1</td>\n      <td>2. Violência Psicológica</td>\n      <td>1-violência Contra A Mulher</td>\n      <td>Ameaça/coação</td>\n      <td>Brasil</td>\n      <td>Al</td>\n      <td>Denúncia - Atendimento Telefônico</td>\n      <td>Não</td>\n      <td>O Próprio Agressor</td>\n      <td>Em Razão Do Sexo Biológico</td>\n      <td>Via Pública</td>\n      <td>Resultado Das Agressões Se Prolongam Ao Longo ...</td>\n      <td>N/d</td>\n      <td>N/d</td>\n      <td>N/d</td>\n      <td>N/d</td>\n      <td>N/d</td>\n      <td>N/d</td>\n      <td>N/d</td>\n      <td>N/d</td>\n      <td>N/d</td>\n      <td>N/d</td>\n      <td>Masculino</td>\n      <td>37 Anos</td>\n      <td>Ensino Fundamental Incompleto</td>\n      <td>Brasileiro(a)</td>\n      <td>Parda</td>\n      <td>Até 1 Salário Mínimo</td>\n      <td>Brasil</td>\n      <td>Não</td>\n    </tr>\n    <tr>\n      <th>2</th>\n      <td>2020</td>\n      <td>Trim 1</td>\n      <td>Janeiro</td>\n      <td>1</td>\n      <td>7. Violações Gerais</td>\n      <td>1-violência Contra A Mulher</td>\n      <td>Liberdade Sexual Psíquica - Abuso Sexual Psíquico</td>\n      <td>Brasil</td>\n      <td>Al</td>\n      <td>Denúncia - Atendimento Telefônico</td>\n      <td>Não</td>\n      <td>O Próprio Agressor</td>\n      <td>Em Razão Do Sexo Biológico</td>\n      <td>Via Pública</td>\n      <td>Resultado Das Agressões Se Prolongam Ao Longo ...</td>\n      <td>N/d</td>\n      <td>N/d</td>\n      <td>N/d</td>\n      <td>N/d</td>\n      <td>N/d</td>\n      <td>N/d</td>\n      <td>N/d</td>\n      <td>N/d</td>\n      <td>N/d</td>\n      <td>N/d</td>\n      <td>Masculino</td>\n      <td>37 Anos</td>\n      <td>Ensino Fundamental Incompleto</td>\n      <td>Brasileiro(a)</td>\n      <td>Parda</td>\n      <td>Até 1 Salário Mínimo</td>\n      <td>Brasil</td>\n      <td>Não</td>\n    </tr>\n  </tbody>\n</table>\n</div>"
          },
          "metadata": {}
        }
      ],
      "execution_count": 59,
      "metadata": {
        "jupyter": {
          "source_hidden": false,
          "outputs_hidden": false
        },
        "nteract": {
          "transient": {
            "deleting": false
          }
        }
      }
    },
    {
      "cell_type": "code",
      "source": [
        "# Escrever dados limpos em formato parque no azure storage\r\n",
        "#df.write.format('parquet').mode('overwrite').save('/history_zone/2020/PrimeiroSemestre/')\r\n",
        "\r\n",
        "df.write.partitionBy(\"Ano\",\"Mes\").mode(\"overwrite\").parquet(\"/history_zone/2020/PrimeiroSemestre/\")\r\n"
      ],
      "outputs": [
        {
          "output_type": "display_data",
          "data": {
            "application/vnd.livy.statement-meta+json": {
              "spark_pool": "tcccibele",
              "session_id": 11,
              "statement_id": 60,
              "state": "finished",
              "livy_statement_state": "available",
              "queued_time": "2021-11-20T20:32:41.0931505Z",
              "session_start_time": null,
              "execution_start_time": "2021-11-20T20:32:41.7547683Z",
              "execution_finish_time": "2021-11-20T20:32:56.26245Z"
            },
            "text/plain": "StatementMeta(tcccibele, 11, 60, Finished, Available)"
          },
          "metadata": {}
        }
      ],
      "execution_count": 60,
      "metadata": {
        "jupyter": {
          "source_hidden": false,
          "outputs_hidden": false
        },
        "nteract": {
          "transient": {
            "deleting": false
          }
        }
      }
    },
    {
      "cell_type": "code",
      "source": [
        "df = spark.read.parquet('/history_zone/2020/PrimeiroSemestre/')\r\n",
        "df.limit(3).toPandas()"
      ],
      "outputs": [
        {
          "output_type": "display_data",
          "data": {
            "application/vnd.livy.statement-meta+json": {
              "spark_pool": "tcccibele",
              "session_id": 11,
              "statement_id": 61,
              "state": "finished",
              "livy_statement_state": "available",
              "queued_time": "2021-11-20T20:32:41.335414Z",
              "session_start_time": null,
              "execution_start_time": "2021-11-20T20:32:56.3493878Z",
              "execution_finish_time": "2021-11-20T20:32:58.1644002Z"
            },
            "text/plain": "StatementMeta(tcccibele, 11, 61, Finished, Available)"
          },
          "metadata": {}
        },
        {
          "output_type": "display_data",
          "data": {
            "text/plain": "  Trimestre Dia              TipoViolacao  ... DeficienciaSuspeito   Ano      Mes\n0    Trim 1   9       1. Violência Física  ...                 Não  2020  Janeiro\n1    Trim 1   9       1. Violência Física  ...                 Não  2020  Janeiro\n2    Trim 1   9  2. Violência Psicológica  ...                 Não  2020  Janeiro\n\n[3 rows x 33 columns]",
            "text/html": "<div>\n<style scoped>\n    .dataframe tbody tr th:only-of-type {\n        vertical-align: middle;\n    }\n\n    .dataframe tbody tr th {\n        vertical-align: top;\n    }\n\n    .dataframe thead th {\n        text-align: right;\n    }\n</style>\n<table border=\"1\" class=\"dataframe\">\n  <thead>\n    <tr style=\"text-align: right;\">\n      <th></th>\n      <th>Trimestre</th>\n      <th>Dia</th>\n      <th>TipoViolacao</th>\n      <th>GrupoVulneravel</th>\n      <th>EspecieViolacao</th>\n      <th>PaisOrigemVitima</th>\n      <th>UF</th>\n      <th>CanalAtendimento</th>\n      <th>DenunciaEmergencial</th>\n      <th>Denunciante</th>\n      <th>Motivacao</th>\n      <th>CenarioViolacao</th>\n      <th>Agravantes</th>\n      <th>AgravantesPoliciais</th>\n      <th>RelacaoVitimaSuspeito</th>\n      <th>SexoVitima</th>\n      <th>IdadeVitima</th>\n      <th>EscolaridadeVitima</th>\n      <th>RacaVitima</th>\n      <th>FaixaRendaVitima</th>\n      <th>NacionalidadeVitima</th>\n      <th>DeficienciaVitima</th>\n      <th>RelacaoDemandanteVitima</th>\n      <th>SexoSuspeito</th>\n      <th>IdadeSuspeito</th>\n      <th>EscolaridadeSuspeito</th>\n      <th>NacionalidadeSuspeito</th>\n      <th>RacaSuspeito</th>\n      <th>FaixaRendaSuspeito</th>\n      <th>PaisOrigemSuspeito</th>\n      <th>DeficienciaSuspeito</th>\n      <th>Ano</th>\n      <th>Mes</th>\n    </tr>\n  </thead>\n  <tbody>\n    <tr>\n      <th>0</th>\n      <td>Trim 1</td>\n      <td>9</td>\n      <td>1. Violência Física</td>\n      <td>2-violência Doméstica E Familiar Contra A Mulher</td>\n      <td>Maus Tratos</td>\n      <td>Brasil</td>\n      <td>Df</td>\n      <td>Denúncia - Atendimento Telefônico</td>\n      <td>Não</td>\n      <td>Anônimo</td>\n      <td>N/d</td>\n      <td>Casa Onde Reside A Vítima E O Suspeito</td>\n      <td>N/d</td>\n      <td>N/d</td>\n      <td>Companheiro(a)</td>\n      <td>Feminino</td>\n      <td>21</td>\n      <td>Ensino Médio Completo</td>\n      <td>Preta</td>\n      <td>N/d</td>\n      <td>Brasileiro(a)</td>\n      <td>Não</td>\n      <td>N/d</td>\n      <td>Masculino</td>\n      <td>24</td>\n      <td>Ensino Fundamental Incompleto</td>\n      <td>Brasileiro(a)</td>\n      <td>Parda</td>\n      <td>N/d</td>\n      <td>N/d</td>\n      <td>Não</td>\n      <td>2020</td>\n      <td>Janeiro</td>\n    </tr>\n    <tr>\n      <th>1</th>\n      <td>Trim 1</td>\n      <td>9</td>\n      <td>1. Violência Física</td>\n      <td>2-violência Doméstica E Familiar Contra A Mulher</td>\n      <td>Tortura Física</td>\n      <td>Brasil</td>\n      <td>Df</td>\n      <td>Denúncia - Atendimento Telefônico</td>\n      <td>Não</td>\n      <td>Anônimo</td>\n      <td>N/d</td>\n      <td>Casa Onde Reside A Vítima E O Suspeito</td>\n      <td>N/d</td>\n      <td>N/d</td>\n      <td>Companheiro(a)</td>\n      <td>Feminino</td>\n      <td>21</td>\n      <td>Ensino Médio Completo</td>\n      <td>Preta</td>\n      <td>N/d</td>\n      <td>Brasileiro(a)</td>\n      <td>Não</td>\n      <td>N/d</td>\n      <td>Masculino</td>\n      <td>24</td>\n      <td>Ensino Fundamental Incompleto</td>\n      <td>Brasileiro(a)</td>\n      <td>Parda</td>\n      <td>N/d</td>\n      <td>N/d</td>\n      <td>Não</td>\n      <td>2020</td>\n      <td>Janeiro</td>\n    </tr>\n    <tr>\n      <th>2</th>\n      <td>Trim 1</td>\n      <td>9</td>\n      <td>2. Violência Psicológica</td>\n      <td>2-violência Doméstica E Familiar Contra A Mulher</td>\n      <td>Tortura Psíquica</td>\n      <td>Brasil</td>\n      <td>Df</td>\n      <td>Denúncia - Atendimento Telefônico</td>\n      <td>Não</td>\n      <td>Anônimo</td>\n      <td>N/d</td>\n      <td>Casa Onde Reside A Vítima E O Suspeito</td>\n      <td>N/d</td>\n      <td>N/d</td>\n      <td>Companheiro(a)</td>\n      <td>Feminino</td>\n      <td>21</td>\n      <td>Ensino Médio Completo</td>\n      <td>Preta</td>\n      <td>N/d</td>\n      <td>Brasileiro(a)</td>\n      <td>Não</td>\n      <td>N/d</td>\n      <td>Masculino</td>\n      <td>24</td>\n      <td>Ensino Fundamental Incompleto</td>\n      <td>Brasileiro(a)</td>\n      <td>Parda</td>\n      <td>N/d</td>\n      <td>N/d</td>\n      <td>Não</td>\n      <td>2020</td>\n      <td>Janeiro</td>\n    </tr>\n  </tbody>\n</table>\n</div>"
          },
          "metadata": {}
        }
      ],
      "execution_count": 61,
      "metadata": {
        "jupyter": {
          "source_hidden": false,
          "outputs_hidden": false
        },
        "nteract": {
          "transient": {
            "deleting": false
          }
        }
      }
    }
  ],
  "metadata": {
    "kernelspec": {
      "name": "synapse_pyspark",
      "language": "Python",
      "display_name": "Synapse PySpark"
    },
    "language_info": {
      "name": "python"
    },
    "kernel_info": {
      "name": "synapse_pyspark"
    },
    "description": null,
    "save_output": true,
    "synapse_widget": {
      "version": "0.1",
      "state": {}
    }
  },
  "nbformat": 4,
  "nbformat_minor": 2
}