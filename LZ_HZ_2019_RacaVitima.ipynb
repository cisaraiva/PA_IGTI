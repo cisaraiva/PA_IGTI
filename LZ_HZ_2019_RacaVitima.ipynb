{
  "nbformat": 4,
  "nbformat_minor": 2,
  "cells": [
    {
      "cell_type": "code",
      "execution_count": 1,
      "outputs": [
        {
          "output_type": "display_data",
          "data": {
            "application/vnd.livy.statement-meta+json": {
              "spark_pool": "tcccibele",
              "session_id": 7,
              "statement_id": 1,
              "state": "finished",
              "livy_statement_state": "available",
              "queued_time": "2021-11-20T19:09:45.3612294Z",
              "session_start_time": "2021-11-20T19:09:45.4388169Z",
              "execution_start_time": "2021-11-20T19:10:38.0302282Z",
              "execution_finish_time": "2021-11-20T19:10:38.1806255Z"
            },
            "text/plain": "StatementMeta(tcccibele, 7, 1, Finished, Available)"
          },
          "metadata": {}
        }
      ],
      "metadata": {
        "jupyter": {
          "source_hidden": false,
          "outputs_hidden": false
        },
        "nteract": {
          "transient": {
            "deleting": false
          }
        }
      },
      "source": [
        "from pyspark.sql.types import StructField, StructType, IntegerType, StringType\r\n",
        "from pyspark.sql import functions as f"
      ]
    },
    {
      "cell_type": "code",
      "execution_count": 2,
      "outputs": [
        {
          "output_type": "display_data",
          "data": {
            "application/vnd.livy.statement-meta+json": {
              "spark_pool": "tcccibele",
              "session_id": 7,
              "statement_id": 2,
              "state": "finished",
              "livy_statement_state": "available",
              "queued_time": "2021-11-20T19:09:45.3638493Z",
              "session_start_time": null,
              "execution_start_time": "2021-11-20T19:10:38.2802788Z",
              "execution_finish_time": "2021-11-20T19:10:39.3643246Z"
            },
            "text/plain": "StatementMeta(tcccibele, 7, 2, Finished, Available)"
          },
          "metadata": {}
        }
      ],
      "metadata": {},
      "source": [
        "# Definir schema do arquivo\r\n",
        "schema = StructType([ \r\n",
        "    StructField(\"None\", StringType(), True), \r\n",
        "    StructField(\"RacaVitima\", StringType(), True), \r\n",
        "    StructField(\"Janeiro\", StringType(), True), \r\n",
        "    StructField(\"Fevereiro\", StringType(), True), \r\n",
        "    StructField(\"Março\", StringType(), True), \r\n",
        "    StructField(\"Abril\", StringType(), True), \r\n",
        "    StructField(\"Maio\", StringType(), True), \r\n",
        "    StructField(\"Junho\", StringType(), True), \r\n",
        "    StructField(\"Julho\", StringType(), True), \r\n",
        "    StructField(\"Agosto\", StringType(), True), \r\n",
        "    StructField(\"Setembro\", StringType(), True), \r\n",
        "    StructField(\"Outubro\", StringType(), True), \r\n",
        "    StructField(\"Novembro\", StringType(), True), \r\n",
        "    StructField(\"Dezembro\", StringType(), True), \r\n",
        "    StructField(\"Total\", StringType(), True)\r\n",
        "])"
      ]
    },
    {
      "cell_type": "code",
      "execution_count": 3,
      "outputs": [
        {
          "output_type": "display_data",
          "data": {
            "application/vnd.livy.statement-meta+json": {
              "spark_pool": "tcccibele",
              "session_id": 7,
              "statement_id": 3,
              "state": "finished",
              "livy_statement_state": "available",
              "queued_time": "2021-11-20T19:09:45.3721125Z",
              "session_start_time": null,
              "execution_start_time": "2021-11-20T19:10:39.4613785Z",
              "execution_finish_time": "2021-11-20T19:10:47.9534305Z"
            },
            "text/plain": "StatementMeta(tcccibele, 7, 3, Finished, Available)"
          },
          "metadata": {}
        }
      ],
      "metadata": {
        "jupyter": {
          "source_hidden": false,
          "outputs_hidden": false
        },
        "nteract": {
          "transient": {
            "deleting": false
          }
        }
      },
      "source": [
        "# Ler arquivo de origem da landing zone\r\n",
        "df = spark.read.format(\"csv\") \\\r\n",
        "            .schema(schema) \\\r\n",
        "            .options(quote='\"') \\\r\n",
        "            .load('/landing_zone/2019/Balanco-2019-Ligue180-Raça-cor da Vítima.csv')"
      ]
    },
    {
      "cell_type": "code",
      "execution_count": 4,
      "outputs": [
        {
          "output_type": "display_data",
          "data": {
            "application/vnd.livy.statement-meta+json": {
              "spark_pool": "tcccibele",
              "session_id": 7,
              "statement_id": 4,
              "state": "finished",
              "livy_statement_state": "available",
              "queued_time": "2021-11-20T19:09:45.3771884Z",
              "session_start_time": null,
              "execution_start_time": "2021-11-20T19:10:48.0499234Z",
              "execution_finish_time": "2021-11-20T19:10:48.5454383Z"
            },
            "text/plain": "StatementMeta(tcccibele, 7, 4, Finished, Available)"
          },
          "metadata": {}
        }
      ],
      "metadata": {
        "jupyter": {
          "source_hidden": false,
          "outputs_hidden": false
        },
        "nteract": {
          "transient": {
            "deleting": false
          }
        }
      },
      "source": [
        "# Remover colunas e linhas sem valor para o data lake\r\n",
        "df = df.where((df[1].isNotNull()) \\\r\n",
        "                & (df[1] != 'Total') \\\r\n",
        "                & (df[-1] != 'Total 2019') \\\r\n",
        "                & (df[-1].isNotNull()))\r\n",
        "df = df.drop('None')\r\n",
        "df = df.drop('Total')"
      ]
    },
    {
      "cell_type": "code",
      "execution_count": 5,
      "outputs": [
        {
          "output_type": "display_data",
          "data": {
            "application/vnd.livy.statement-meta+json": {
              "spark_pool": "tcccibele",
              "session_id": 7,
              "statement_id": 5,
              "state": "finished",
              "livy_statement_state": "available",
              "queued_time": "2021-11-20T19:09:45.3821545Z",
              "session_start_time": null,
              "execution_start_time": "2021-11-20T19:10:48.6420481Z",
              "execution_finish_time": "2021-11-20T19:10:49.6824981Z"
            },
            "text/plain": "StatementMeta(tcccibele, 7, 5, Finished, Available)"
          },
          "metadata": {}
        }
      ],
      "metadata": {
        "jupyter": {
          "source_hidden": false,
          "outputs_hidden": false
        },
        "nteract": {
          "transient": {
            "deleting": false
          }
        }
      },
      "source": [
        "# Remover \",\" de todos os campos e substitui null por 0\r\n",
        "names = df.schema.names\r\n",
        "for name in names:\r\n",
        "    if name == 'RacaVitima':\r\n",
        "        continue\r\n",
        "    df = df.withColumn(name,f.regexp_replace(name,',',''))\r\n",
        "    df = df.withColumn(name, df[name].cast(IntegerType()))\r\n",
        "\r\n",
        "df = df.fillna(0)"
      ]
    },
    {
      "cell_type": "code",
      "execution_count": 6,
      "outputs": [
        {
          "output_type": "display_data",
          "data": {
            "application/vnd.livy.statement-meta+json": {
              "spark_pool": "tcccibele",
              "session_id": 7,
              "statement_id": 6,
              "state": "finished",
              "livy_statement_state": "available",
              "queued_time": "2021-11-20T19:09:45.3878133Z",
              "session_start_time": null,
              "execution_start_time": "2021-11-20T19:10:49.7956719Z",
              "execution_finish_time": "2021-11-20T19:11:02.2869904Z"
            },
            "text/plain": "StatementMeta(tcccibele, 7, 6, Finished, Available)"
          },
          "metadata": {}
        }
      ],
      "metadata": {
        "jupyter": {
          "source_hidden": false,
          "outputs_hidden": false
        },
        "nteract": {
          "transient": {
            "deleting": false
          }
        }
      },
      "source": [
        "# Escrever dados limpos em formato parque no azure storage\r\n",
        "df.write.format('parquet').mode('overwrite').save('/history_zone/2019/RacaVitima/')"
      ]
    },
    {
      "cell_type": "code",
      "execution_count": 7,
      "outputs": [
        {
          "output_type": "display_data",
          "data": {
            "application/vnd.livy.statement-meta+json": {
              "spark_pool": "tcccibele",
              "session_id": 7,
              "statement_id": 7,
              "state": "finished",
              "livy_statement_state": "available",
              "queued_time": "2021-11-20T19:09:45.3925743Z",
              "session_start_time": null,
              "execution_start_time": "2021-11-20T19:11:02.3988458Z",
              "execution_finish_time": "2021-11-20T19:11:12.8376737Z"
            },
            "text/plain": "StatementMeta(tcccibele, 7, 7, Finished, Available)"
          },
          "metadata": {}
        },
        {
          "output_type": "display_data",
          "data": {
            "text/plain": "      RacaVitima  Janeiro  Fevereiro  ...  Outubro  Novembro  Dezembro\n0        Amarela       97         79  ...       65        48        29\n1         Branca     3449       2874  ...     2718      2585      1332\n2       Indígena       62         43  ...       37        25        21\n3          Parda     4084       3235  ...     3253      2924      1491\n4          Preta     1070        876  ...      822       729       457\n5  Não Informado      787        562  ...      385       377       222\n\n[6 rows x 13 columns]",
            "text/html": "<div>\n<style scoped>\n    .dataframe tbody tr th:only-of-type {\n        vertical-align: middle;\n    }\n\n    .dataframe tbody tr th {\n        vertical-align: top;\n    }\n\n    .dataframe thead th {\n        text-align: right;\n    }\n</style>\n<table border=\"1\" class=\"dataframe\">\n  <thead>\n    <tr style=\"text-align: right;\">\n      <th></th>\n      <th>RacaVitima</th>\n      <th>Janeiro</th>\n      <th>Fevereiro</th>\n      <th>Março</th>\n      <th>Abril</th>\n      <th>Maio</th>\n      <th>Junho</th>\n      <th>Julho</th>\n      <th>Agosto</th>\n      <th>Setembro</th>\n      <th>Outubro</th>\n      <th>Novembro</th>\n      <th>Dezembro</th>\n    </tr>\n  </thead>\n  <tbody>\n    <tr>\n      <th>0</th>\n      <td>Amarela</td>\n      <td>97</td>\n      <td>79</td>\n      <td>88</td>\n      <td>74</td>\n      <td>62</td>\n      <td>66</td>\n      <td>65</td>\n      <td>67</td>\n      <td>52</td>\n      <td>65</td>\n      <td>48</td>\n      <td>29</td>\n    </tr>\n    <tr>\n      <th>1</th>\n      <td>Branca</td>\n      <td>3449</td>\n      <td>2874</td>\n      <td>3135</td>\n      <td>2632</td>\n      <td>2726</td>\n      <td>2434</td>\n      <td>2394</td>\n      <td>2840</td>\n      <td>2769</td>\n      <td>2718</td>\n      <td>2585</td>\n      <td>1332</td>\n    </tr>\n    <tr>\n      <th>2</th>\n      <td>Indígena</td>\n      <td>62</td>\n      <td>43</td>\n      <td>57</td>\n      <td>50</td>\n      <td>45</td>\n      <td>42</td>\n      <td>64</td>\n      <td>40</td>\n      <td>40</td>\n      <td>37</td>\n      <td>25</td>\n      <td>21</td>\n    </tr>\n    <tr>\n      <th>3</th>\n      <td>Parda</td>\n      <td>4084</td>\n      <td>3235</td>\n      <td>3530</td>\n      <td>3171</td>\n      <td>3198</td>\n      <td>2717</td>\n      <td>2866</td>\n      <td>3376</td>\n      <td>3236</td>\n      <td>3253</td>\n      <td>2924</td>\n      <td>1491</td>\n    </tr>\n    <tr>\n      <th>4</th>\n      <td>Preta</td>\n      <td>1070</td>\n      <td>876</td>\n      <td>1011</td>\n      <td>916</td>\n      <td>894</td>\n      <td>748</td>\n      <td>783</td>\n      <td>922</td>\n      <td>868</td>\n      <td>822</td>\n      <td>729</td>\n      <td>457</td>\n    </tr>\n    <tr>\n      <th>5</th>\n      <td>Não Informado</td>\n      <td>787</td>\n      <td>562</td>\n      <td>619</td>\n      <td>400</td>\n      <td>384</td>\n      <td>293</td>\n      <td>270</td>\n      <td>383</td>\n      <td>347</td>\n      <td>385</td>\n      <td>377</td>\n      <td>222</td>\n    </tr>\n  </tbody>\n</table>\n</div>"
          },
          "metadata": {}
        }
      ],
      "metadata": {
        "jupyter": {
          "source_hidden": false,
          "outputs_hidden": false
        },
        "nteract": {
          "transient": {
            "deleting": false
          }
        }
      },
      "source": [
        "df = spark.read.parquet('/history_zone/2019/RacaVitima/')\r\n",
        "df.toPandas()"
      ]
    }
  ],
  "metadata": {
    "description": null,
    "save_output": true,
    "kernelspec": {
      "name": "synapse_pyspark",
      "display_name": "Synapse PySpark"
    },
    "language_info": {
      "name": "python"
    },
    "synapse_widget": {
      "version": "0.1",
      "state": {}
    }
  }
}