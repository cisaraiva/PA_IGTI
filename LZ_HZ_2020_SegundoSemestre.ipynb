{
  "cells": [
    {
      "cell_type": "code",
      "source": [
        "from pyspark.sql.types import StructField, StructType, IntegerType, StringType\r\n",
        "from pyspark.sql import functions as f"
      ],
      "outputs": [
        {
          "output_type": "display_data",
          "data": {
            "application/vnd.livy.statement-meta+json": {
              "spark_pool": "tcccibele",
              "session_id": 12,
              "statement_id": 4,
              "state": "finished",
              "livy_statement_state": "available",
              "queued_time": "2021-11-20T20:42:29.9499528Z",
              "session_start_time": null,
              "execution_start_time": "2021-11-20T20:42:30.0808017Z",
              "execution_finish_time": "2021-11-20T20:42:30.2327794Z"
            },
            "text/plain": "StatementMeta(tcccibele, 12, 4, Finished, Available)"
          },
          "metadata": {}
        }
      ],
      "execution_count": 4,
      "metadata": {
        "jupyter": {
          "source_hidden": false,
          "outputs_hidden": false
        },
        "nteract": {
          "transient": {
            "deleting": false
          }
        }
      }
    },
    {
      "cell_type": "code",
      "source": [
        "# Definir schema do arquivo\r\n",
        "schema = StructType([ \r\n",
        "    StructField(\"Ano\", StringType(), True), \r\n",
        "    StructField(\"Trimestre\", StringType(), True), \r\n",
        "    StructField(\"Mes\", StringType(), True), \r\n",
        "    StructField(\"Dia\", StringType(), True), \r\n",
        "    StructField(\"Pais\", StringType(), True), \r\n",
        "    StructField(\"UF\", StringType(), True), \r\n",
        "    StructField(\"GrupoVulneravel\", StringType(), True), \r\n",
        "    StructField(\"CanalAtendimento\", StringType(), True), \r\n",
        "    StructField(\"CenarioViolacao\", StringType(), True), \r\n",
        "    StructField(\"Frequencia\", StringType(), True), \r\n",
        "    StructField(\"Motivacao\", StringType(), True), \r\n",
        "    StructField(\"Denunciante\", StringType(), True), \r\n",
        "    StructField(\"SexoVitima\", StringType(), True),\r\n",
        "    StructField(\"VitimaLGBT\", StringType(), True),\r\n",
        "    StructField(\"RacaVitima\", StringType(), True),\r\n",
        "    StructField(\"EscolaridadeVitima\", StringType(), True),\r\n",
        "    StructField(\"IdadeVitima\", StringType(), True),\r\n",
        "    StructField(\"FaixaRendaVitima\", StringType(), True),\r\n",
        "    StructField(\"ProfissaoVitima\", StringType(), True),\r\n",
        "    StructField(\"ReligiaoVitima\", StringType(), True),\r\n",
        "    StructField(\"DeficienciaVitima\", StringType(), True),\r\n",
        "    StructField(\"DeficienciaDoencaRara\", StringType(), True),\r\n",
        "    StructField(\"Categoria1\", StringType(), True),\r\n",
        "    StructField(\"Categoria2\", StringType(), True),\r\n",
        "    StructField(\"Categoria3\", StringType(), True),\r\n",
        "    StructField(\"Categoria4\", StringType(), True),\r\n",
        "    StructField(\"Categoria5\", StringType(), True),\r\n",
        "    StructField(\"Categoria6\", StringType(), True)\r\n",
        "])"
      ],
      "outputs": [
        {
          "output_type": "display_data",
          "data": {
            "application/vnd.livy.statement-meta+json": {
              "spark_pool": "tcccibele",
              "session_id": 12,
              "statement_id": 5,
              "state": "finished",
              "livy_statement_state": "available",
              "queued_time": "2021-11-20T20:42:32.3520614Z",
              "session_start_time": null,
              "execution_start_time": "2021-11-20T20:42:32.4438797Z",
              "execution_finish_time": "2021-11-20T20:42:32.5911877Z"
            },
            "text/plain": "StatementMeta(tcccibele, 12, 5, Finished, Available)"
          },
          "metadata": {}
        }
      ],
      "execution_count": 5,
      "metadata": {}
    },
    {
      "cell_type": "code",
      "source": [
        "# Ler arquivo de origem da landing zone\r\n",
        "df = spark.read.format(\"csv\") \\\r\n",
        "            .schema(schema) \\\r\n",
        "            .options(quote='\"', sep=';', encoding='ISO-8859-1') \\\r\n",
        "            .load('/landing_zone/2020/segundo_semestre_2020.csv')"
      ],
      "outputs": [
        {
          "output_type": "display_data",
          "data": {
            "application/vnd.livy.statement-meta+json": {
              "spark_pool": "tcccibele",
              "session_id": 12,
              "statement_id": 6,
              "state": "finished",
              "livy_statement_state": "available",
              "queued_time": "2021-11-20T20:42:45.8049717Z",
              "session_start_time": null,
              "execution_start_time": "2021-11-20T20:42:45.8942279Z",
              "execution_finish_time": "2021-11-20T20:42:51.1361444Z"
            },
            "text/plain": "StatementMeta(tcccibele, 12, 6, Finished, Available)"
          },
          "metadata": {}
        }
      ],
      "execution_count": 6,
      "metadata": {
        "jupyter": {
          "source_hidden": false,
          "outputs_hidden": false
        },
        "nteract": {
          "transient": {
            "deleting": false
          }
        }
      }
    },
    {
      "cell_type": "code",
      "source": [
        "# Remover colunas e linhas sem valor para o data lake\r\n",
        "df = df.where((df[0].isNotNull()) \\\r\n",
        "                & (df[0] != 'Ano'))"
      ],
      "outputs": [
        {
          "output_type": "display_data",
          "data": {
            "application/vnd.livy.statement-meta+json": {
              "spark_pool": "tcccibele",
              "session_id": 12,
              "statement_id": 8,
              "state": "finished",
              "livy_statement_state": "available",
              "queued_time": "2021-11-20T20:43:28.7859918Z",
              "session_start_time": null,
              "execution_start_time": "2021-11-20T20:43:28.8775079Z",
              "execution_finish_time": "2021-11-20T20:43:29.3753192Z"
            },
            "text/plain": "StatementMeta(tcccibele, 12, 8, Finished, Available)"
          },
          "metadata": {}
        }
      ],
      "execution_count": 8,
      "metadata": {
        "jupyter": {
          "source_hidden": false,
          "outputs_hidden": false
        },
        "nteract": {
          "transient": {
            "deleting": false
          }
        }
      }
    },
    {
      "cell_type": "code",
      "source": [
        "# Capitalizar todos os textos e incluir 0 onde há nulos\r\n",
        "names = df.schema.names\r\n",
        "for name in names:\r\n",
        "    df = df.withColumn(name, f.initcap(f.col(name)))\r\n",
        "    #df = df.withColumn(name,f.regexp_replace(name,',',''))\r\n",
        "    #df = df.withColumn(name, df[name].cast(IntegerType()))\r\n",
        "\r\n",
        "df = df.fillna(0)"
      ],
      "outputs": [
        {
          "output_type": "display_data",
          "data": {
            "application/vnd.livy.statement-meta+json": {
              "spark_pool": "tcccibele",
              "session_id": 12,
              "statement_id": 9,
              "state": "finished",
              "livy_statement_state": "available",
              "queued_time": "2021-11-20T20:43:33.0399381Z",
              "session_start_time": null,
              "execution_start_time": "2021-11-20T20:43:33.1305982Z",
              "execution_finish_time": "2021-11-20T20:43:34.1901942Z"
            },
            "text/plain": "StatementMeta(tcccibele, 12, 9, Finished, Available)"
          },
          "metadata": {}
        }
      ],
      "execution_count": 9,
      "metadata": {
        "jupyter": {
          "source_hidden": false,
          "outputs_hidden": false
        },
        "nteract": {
          "transient": {
            "deleting": false
          }
        }
      }
    },
    {
      "cell_type": "code",
      "source": [
        "df.limit(3).toPandas()"
      ],
      "outputs": [
        {
          "output_type": "display_data",
          "data": {
            "application/vnd.livy.statement-meta+json": {
              "spark_pool": "tcccibele",
              "session_id": 12,
              "statement_id": 10,
              "state": "finished",
              "livy_statement_state": "available",
              "queued_time": "2021-11-20T20:43:38.3943392Z",
              "session_start_time": null,
              "execution_start_time": "2021-11-20T20:43:38.4823667Z",
              "execution_finish_time": "2021-11-20T20:43:41.2042998Z"
            },
            "text/plain": "StatementMeta(tcccibele, 12, 10, Finished, Available)"
          },
          "metadata": {}
        },
        {
          "output_type": "display_data",
          "data": {
            "text/plain": "    Ano Trimestre       Mes  ... Categoria4 Categoria5 Categoria6\n0  2020    Trim 4  Dezembro  ...       None       None       None\n1  2020    Trim 4  Dezembro  ...       None       None       None\n2  2020    Trim 4  Dezembro  ...       None       None       None\n\n[3 rows x 28 columns]",
            "text/html": "<div>\n<style scoped>\n    .dataframe tbody tr th:only-of-type {\n        vertical-align: middle;\n    }\n\n    .dataframe tbody tr th {\n        vertical-align: top;\n    }\n\n    .dataframe thead th {\n        text-align: right;\n    }\n</style>\n<table border=\"1\" class=\"dataframe\">\n  <thead>\n    <tr style=\"text-align: right;\">\n      <th></th>\n      <th>Ano</th>\n      <th>Trimestre</th>\n      <th>Mes</th>\n      <th>Dia</th>\n      <th>Pais</th>\n      <th>UF</th>\n      <th>GrupoVulneravel</th>\n      <th>CanalAtendimento</th>\n      <th>CenarioViolacao</th>\n      <th>Frequencia</th>\n      <th>Motivacao</th>\n      <th>Denunciante</th>\n      <th>SexoVitima</th>\n      <th>VitimaLGBT</th>\n      <th>RacaVitima</th>\n      <th>EscolaridadeVitima</th>\n      <th>IdadeVitima</th>\n      <th>FaixaRendaVitima</th>\n      <th>ProfissaoVitima</th>\n      <th>ReligiaoVitima</th>\n      <th>DeficienciaVitima</th>\n      <th>DeficienciaDoencaRara</th>\n      <th>Categoria1</th>\n      <th>Categoria2</th>\n      <th>Categoria3</th>\n      <th>Categoria4</th>\n      <th>Categoria5</th>\n      <th>Categoria6</th>\n    </tr>\n  </thead>\n  <tbody>\n    <tr>\n      <th>0</th>\n      <td>2020</td>\n      <td>Trim 4</td>\n      <td>Dezembro</td>\n      <td>31</td>\n      <td>Brasil</td>\n      <td>Am</td>\n      <td>02. Violência Doméstica E Familiar Contra A Mu...</td>\n      <td>Telefônico</td>\n      <td>Casa Onde Reside A Vítima E O Suspeito</td>\n      <td>Única Ocorrência</td>\n      <td>Em Razão De Ser Mulher</td>\n      <td>A Própria Vítima</td>\n      <td>Feminino</td>\n      <td>*(n/d)</td>\n      <td>Parda</td>\n      <td>Ensino Médio Completo</td>\n      <td>35 A 39 Anos</td>\n      <td>Até 1 Sm</td>\n      <td>*(n/d)</td>\n      <td>Evangelho Quadrangular</td>\n      <td>*(n/d)</td>\n      <td>Não</td>\n      <td>Integridade</td>\n      <td>Física</td>\n      <td>Exposição De Risco À Saúde</td>\n      <td>None</td>\n      <td>None</td>\n      <td>None</td>\n    </tr>\n    <tr>\n      <th>1</th>\n      <td>2020</td>\n      <td>Trim 4</td>\n      <td>Dezembro</td>\n      <td>31</td>\n      <td>Brasil</td>\n      <td>Am</td>\n      <td>02. Violência Doméstica E Familiar Contra A Mu...</td>\n      <td>Telefônico</td>\n      <td>Casa Onde Reside A Vítima E O Suspeito</td>\n      <td>Única Ocorrência</td>\n      <td>*(n/d)</td>\n      <td>A Própria Vítima</td>\n      <td>Feminino</td>\n      <td>*(n/d)</td>\n      <td>Parda</td>\n      <td>Ensino Médio Completo</td>\n      <td>35 A 39 Anos</td>\n      <td>Até 1 Sm</td>\n      <td>*(n/d)</td>\n      <td>Evangelho Quadrangular</td>\n      <td>*(n/d)</td>\n      <td>Não</td>\n      <td>Integridade</td>\n      <td>Física</td>\n      <td>Lesão Corporal</td>\n      <td>None</td>\n      <td>None</td>\n      <td>None</td>\n    </tr>\n    <tr>\n      <th>2</th>\n      <td>2020</td>\n      <td>Trim 4</td>\n      <td>Dezembro</td>\n      <td>31</td>\n      <td>Brasil</td>\n      <td>Am</td>\n      <td>02. Violência Doméstica E Familiar Contra A Mu...</td>\n      <td>Telefônico</td>\n      <td>Casa Onde Reside A Vítima E O Suspeito</td>\n      <td>Única Ocorrência</td>\n      <td>Por Condutas Excessivas/ Desnecessárias/ Desac...</td>\n      <td>A Própria Vítima</td>\n      <td>Feminino</td>\n      <td>*(n/d)</td>\n      <td>Parda</td>\n      <td>Ensino Médio Completo</td>\n      <td>35 A 39 Anos</td>\n      <td>Até 1 Sm</td>\n      <td>*(n/d)</td>\n      <td>Evangelho Quadrangular</td>\n      <td>Não Tem Deficiência</td>\n      <td>Não</td>\n      <td>Integridade</td>\n      <td>Física</td>\n      <td>Agressão Ou Vias De Fato</td>\n      <td>None</td>\n      <td>None</td>\n      <td>None</td>\n    </tr>\n  </tbody>\n</table>\n</div>"
          },
          "metadata": {}
        }
      ],
      "execution_count": 10,
      "metadata": {
        "jupyter": {
          "source_hidden": false,
          "outputs_hidden": false
        },
        "nteract": {
          "transient": {
            "deleting": false
          }
        }
      }
    },
    {
      "cell_type": "code",
      "source": [
        "# Escrever dados limpos em formato parque no azure storage\r\n",
        "#df.write.format('parquet').mode('overwrite').save('/history_zone/2020/PrimeiroSemestre/')\r\n",
        "\r\n",
        "df.write.partitionBy(\"Ano\",\"Mes\").mode(\"overwrite\").parquet(\"/history_zone/2020/SegundoSemestre/\")\r\n"
      ],
      "outputs": [
        {
          "output_type": "display_data",
          "data": {
            "application/vnd.livy.statement-meta+json": {
              "spark_pool": "tcccibele",
              "session_id": 12,
              "statement_id": 11,
              "state": "finished",
              "livy_statement_state": "available",
              "queued_time": "2021-11-20T20:43:53.3582078Z",
              "session_start_time": null,
              "execution_start_time": "2021-11-20T20:43:53.459446Z",
              "execution_finish_time": "2021-11-20T20:44:05.9705762Z"
            },
            "text/plain": "StatementMeta(tcccibele, 12, 11, Finished, Available)"
          },
          "metadata": {}
        }
      ],
      "execution_count": 11,
      "metadata": {
        "jupyter": {
          "source_hidden": false,
          "outputs_hidden": false
        },
        "nteract": {
          "transient": {
            "deleting": false
          }
        }
      }
    },
    {
      "cell_type": "code",
      "source": [
        "df = spark.read.parquet('/history_zone/2020/SegundoSemestre/')\r\n",
        "df.limit(3).toPandas()"
      ],
      "outputs": [
        {
          "output_type": "display_data",
          "data": {
            "application/vnd.livy.statement-meta+json": {
              "spark_pool": "tcccibele",
              "session_id": 12,
              "statement_id": 13,
              "state": "finished",
              "livy_statement_state": "available",
              "queued_time": "2021-11-20T20:44:20.317048Z",
              "session_start_time": null,
              "execution_start_time": "2021-11-20T20:44:20.4157138Z",
              "execution_finish_time": "2021-11-20T20:44:23.1801895Z"
            },
            "text/plain": "StatementMeta(tcccibele, 12, 13, Finished, Available)"
          },
          "metadata": {}
        },
        {
          "output_type": "display_data",
          "data": {
            "text/plain": "  Trimestre Dia    Pais  UF  ... Categoria5 Categoria6   Ano       Mes\n0    Trim 4  31  Brasil  Mg  ...       None       None  2020  Dezembro\n1    Trim 4  31  Brasil  Mg  ...       None       None  2020  Dezembro\n2    Trim 4  31  Brasil  Mg  ...       None       None  2020  Dezembro\n\n[3 rows x 28 columns]",
            "text/html": "<div>\n<style scoped>\n    .dataframe tbody tr th:only-of-type {\n        vertical-align: middle;\n    }\n\n    .dataframe tbody tr th {\n        vertical-align: top;\n    }\n\n    .dataframe thead th {\n        text-align: right;\n    }\n</style>\n<table border=\"1\" class=\"dataframe\">\n  <thead>\n    <tr style=\"text-align: right;\">\n      <th></th>\n      <th>Trimestre</th>\n      <th>Dia</th>\n      <th>Pais</th>\n      <th>UF</th>\n      <th>GrupoVulneravel</th>\n      <th>CanalAtendimento</th>\n      <th>CenarioViolacao</th>\n      <th>Frequencia</th>\n      <th>Motivacao</th>\n      <th>Denunciante</th>\n      <th>SexoVitima</th>\n      <th>VitimaLGBT</th>\n      <th>RacaVitima</th>\n      <th>EscolaridadeVitima</th>\n      <th>IdadeVitima</th>\n      <th>FaixaRendaVitima</th>\n      <th>ProfissaoVitima</th>\n      <th>ReligiaoVitima</th>\n      <th>DeficienciaVitima</th>\n      <th>DeficienciaDoencaRara</th>\n      <th>Categoria1</th>\n      <th>Categoria2</th>\n      <th>Categoria3</th>\n      <th>Categoria4</th>\n      <th>Categoria5</th>\n      <th>Categoria6</th>\n      <th>Ano</th>\n      <th>Mes</th>\n    </tr>\n  </thead>\n  <tbody>\n    <tr>\n      <th>0</th>\n      <td>Trim 4</td>\n      <td>31</td>\n      <td>Brasil</td>\n      <td>Mg</td>\n      <td>04. Violência Contra Pessoa Idosa</td>\n      <td>Telefônico</td>\n      <td>Casa Da Vítima</td>\n      <td>Diariamente</td>\n      <td>Em Razão Da Idade</td>\n      <td>Anônimo</td>\n      <td>Feminino</td>\n      <td>*(n/d)</td>\n      <td>Branca</td>\n      <td>*(n/d)</td>\n      <td>90+</td>\n      <td>Até 1 Sm</td>\n      <td>*(n/d)</td>\n      <td>*(n/d)</td>\n      <td>Não Tem Deficiência</td>\n      <td>Não</td>\n      <td>Integridade</td>\n      <td>Física</td>\n      <td>Agressão Ou Vias De Fato</td>\n      <td>None</td>\n      <td>None</td>\n      <td>None</td>\n      <td>2020</td>\n      <td>Dezembro</td>\n    </tr>\n    <tr>\n      <th>1</th>\n      <td>Trim 4</td>\n      <td>31</td>\n      <td>Brasil</td>\n      <td>Mg</td>\n      <td>04. Violência Contra Pessoa Idosa</td>\n      <td>Telefônico</td>\n      <td>Casa Da Vítima</td>\n      <td>Única Ocorrência</td>\n      <td>Com Humilhação</td>\n      <td>A Própria Vítima</td>\n      <td>Feminino</td>\n      <td>*(n/d)</td>\n      <td>Preta</td>\n      <td>Ensino Médio Completo</td>\n      <td>60 A 64 Anos</td>\n      <td>Até 1 Sm</td>\n      <td>*(n/d)</td>\n      <td>Católica Apostólica Romana</td>\n      <td>*(n/d)</td>\n      <td>Não</td>\n      <td>Integridade</td>\n      <td>Psíquica</td>\n      <td>Assédio Moral</td>\n      <td>Injúria</td>\n      <td>None</td>\n      <td>None</td>\n      <td>2020</td>\n      <td>Dezembro</td>\n    </tr>\n    <tr>\n      <th>2</th>\n      <td>Trim 4</td>\n      <td>31</td>\n      <td>Brasil</td>\n      <td>Mg</td>\n      <td>04. Violência Contra Pessoa Idosa</td>\n      <td>Telefônico</td>\n      <td>Casa Da Vítima</td>\n      <td>Única Ocorrência</td>\n      <td>Em Razão Do Sexo Biológico</td>\n      <td>A Própria Vítima</td>\n      <td>Feminino</td>\n      <td>*(n/d)</td>\n      <td>Preta</td>\n      <td>Ensino Médio Completo</td>\n      <td>60 A 64 Anos</td>\n      <td>Até 1 Sm</td>\n      <td>*(n/d)</td>\n      <td>Católica Apostólica Romana</td>\n      <td>*(n/d)</td>\n      <td>Não</td>\n      <td>Integridade</td>\n      <td>Psíquica</td>\n      <td>Bullying</td>\n      <td>None</td>\n      <td>None</td>\n      <td>None</td>\n      <td>2020</td>\n      <td>Dezembro</td>\n    </tr>\n  </tbody>\n</table>\n</div>"
          },
          "metadata": {}
        }
      ],
      "execution_count": 13,
      "metadata": {
        "jupyter": {
          "source_hidden": false,
          "outputs_hidden": false
        },
        "nteract": {
          "transient": {
            "deleting": false
          }
        }
      }
    }
  ],
  "metadata": {
    "kernelspec": {
      "name": "synapse_pyspark",
      "language": "Python",
      "display_name": "Synapse PySpark"
    },
    "language_info": {
      "name": "python"
    },
    "kernel_info": {
      "name": "synapse_pyspark"
    },
    "description": null,
    "save_output": true,
    "synapse_widget": {
      "version": "0.1",
      "state": {}
    }
  },
  "nbformat": 4,
  "nbformat_minor": 2
}