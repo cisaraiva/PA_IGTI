{
  "nbformat": 4,
  "nbformat_minor": 2,
  "metadata": {
    "kernelspec": {
      "name": "synapse_pyspark",
      "display_name": "Synapse PySpark"
    },
    "language_info": {
      "name": "python"
    },
    "description": null,
    "save_output": true,
    "synapse_widget": {
      "version": "0.1",
      "state": {}
    }
  },
  "cells": [
    {
      "cell_type": "code",
      "execution_count": 36,
      "outputs": [
        {
          "output_type": "display_data",
          "data": {
            "application/vnd.livy.statement-meta+json": {
              "spark_pool": "tcccibele",
              "session_id": 4,
              "statement_id": 36,
              "state": "finished",
              "livy_statement_state": "available",
              "queued_time": "2021-11-20T19:01:41.2468339Z",
              "session_start_time": null,
              "execution_start_time": "2021-11-20T19:01:41.3427885Z",
              "execution_finish_time": "2021-11-20T19:01:41.5021442Z"
            },
            "text/plain": "StatementMeta(tcccibele, 4, 36, Finished, Available)"
          },
          "metadata": {}
        }
      ],
      "metadata": {
        "jupyter": {
          "source_hidden": false,
          "outputs_hidden": false
        },
        "nteract": {
          "transient": {
            "deleting": false
          }
        }
      },
      "source": [
        "from pyspark.sql.types import StructField, StructType, IntegerType, StringType\r\n",
        "from pyspark.sql import functions as f"
      ]
    },
    {
      "cell_type": "code",
      "execution_count": 37,
      "outputs": [
        {
          "output_type": "display_data",
          "data": {
            "application/vnd.livy.statement-meta+json": {
              "spark_pool": "tcccibele",
              "session_id": 4,
              "statement_id": 37,
              "state": "finished",
              "livy_statement_state": "available",
              "queued_time": "2021-11-20T19:01:41.6905758Z",
              "session_start_time": null,
              "execution_start_time": "2021-11-20T19:01:41.819904Z",
              "execution_finish_time": "2021-11-20T19:01:41.9657726Z"
            },
            "text/plain": "StatementMeta(tcccibele, 4, 37, Finished, Available)"
          },
          "metadata": {}
        }
      ],
      "metadata": {},
      "source": [
        "# Definir schema do arquivo\r\n",
        "schema = StructType([ \r\n",
        "    StructField(\"None\", StringType(), True), \r\n",
        "    StructField(\"FaixaEtariaSuspeito\", StringType(), True), \r\n",
        "    StructField(\"Janeiro\", StringType(), True), \r\n",
        "    StructField(\"Fevereiro\", StringType(), True), \r\n",
        "    StructField(\"Março\", StringType(), True), \r\n",
        "    StructField(\"Abril\", StringType(), True), \r\n",
        "    StructField(\"Maio\", StringType(), True), \r\n",
        "    StructField(\"Junho\", StringType(), True), \r\n",
        "    StructField(\"Julho\", StringType(), True), \r\n",
        "    StructField(\"Agosto\", StringType(), True), \r\n",
        "    StructField(\"Setembro\", StringType(), True), \r\n",
        "    StructField(\"Outubro\", StringType(), True), \r\n",
        "    StructField(\"Novembro\", StringType(), True), \r\n",
        "    StructField(\"Dezembro\", StringType(), True), \r\n",
        "    StructField(\"Total\", StringType(), True)\r\n",
        "])"
      ]
    },
    {
      "cell_type": "code",
      "execution_count": 38,
      "outputs": [
        {
          "output_type": "display_data",
          "data": {
            "application/vnd.livy.statement-meta+json": {
              "spark_pool": "tcccibele",
              "session_id": 4,
              "statement_id": 38,
              "state": "finished",
              "livy_statement_state": "available",
              "queued_time": "2021-11-20T19:01:42.5689117Z",
              "session_start_time": null,
              "execution_start_time": "2021-11-20T19:01:42.665642Z",
              "execution_finish_time": "2021-11-20T19:01:42.8348647Z"
            },
            "text/plain": "StatementMeta(tcccibele, 4, 38, Finished, Available)"
          },
          "metadata": {}
        }
      ],
      "metadata": {
        "jupyter": {
          "source_hidden": false,
          "outputs_hidden": false
        },
        "nteract": {
          "transient": {
            "deleting": false
          }
        }
      },
      "source": [
        "# Ler arquivo de origem da landing zone\r\n",
        "df = spark.read.format(\"csv\") \\\r\n",
        "            .schema(schema) \\\r\n",
        "            .options(quote='\"') \\\r\n",
        "            .load('/landing_zone/2019/Balanco-2019-Ligue180-Idade Suspeito.csv')"
      ]
    },
    {
      "cell_type": "code",
      "execution_count": 39,
      "outputs": [
        {
          "output_type": "display_data",
          "data": {
            "application/vnd.livy.statement-meta+json": {
              "spark_pool": "tcccibele",
              "session_id": 4,
              "statement_id": 39,
              "state": "finished",
              "livy_statement_state": "available",
              "queued_time": "2021-11-20T19:01:42.9470683Z",
              "session_start_time": null,
              "execution_start_time": "2021-11-20T19:01:43.0438515Z",
              "execution_finish_time": "2021-11-20T19:01:43.2227567Z"
            },
            "text/plain": "StatementMeta(tcccibele, 4, 39, Finished, Available)"
          },
          "metadata": {}
        }
      ],
      "metadata": {
        "jupyter": {
          "source_hidden": false,
          "outputs_hidden": false
        },
        "nteract": {
          "transient": {
            "deleting": false
          }
        }
      },
      "source": [
        "# Remover colunas e linhas sem valor para o data lake\r\n",
        "df = df.where((df[1].isNotNull()) \\\r\n",
        "                & (df[1] != 'Total') \\\r\n",
        "                & (df[-1] != 'Total 2019') \\\r\n",
        "                & (df[-1].isNotNull()))\r\n",
        "df = df.drop('None')\r\n",
        "df = df.drop('Total')"
      ]
    },
    {
      "cell_type": "code",
      "execution_count": 40,
      "outputs": [
        {
          "output_type": "display_data",
          "data": {
            "application/vnd.livy.statement-meta+json": {
              "spark_pool": "tcccibele",
              "session_id": 4,
              "statement_id": 40,
              "state": "finished",
              "livy_statement_state": "available",
              "queued_time": "2021-11-20T19:01:43.6243352Z",
              "session_start_time": null,
              "execution_start_time": "2021-11-20T19:01:43.7208522Z",
              "execution_finish_time": "2021-11-20T19:01:44.2368538Z"
            },
            "text/plain": "StatementMeta(tcccibele, 4, 40, Finished, Available)"
          },
          "metadata": {}
        }
      ],
      "metadata": {
        "jupyter": {
          "source_hidden": false,
          "outputs_hidden": false
        },
        "nteract": {
          "transient": {
            "deleting": false
          }
        }
      },
      "source": [
        "# Remover \",\" de todos os campos e substitui null por 0\r\n",
        "names = df.schema.names\r\n",
        "for name in names:\r\n",
        "    if name == 'FaixaEtariaSuspeito':\r\n",
        "        continue\r\n",
        "    df = df.withColumn(name,f.regexp_replace(name,',',''))\r\n",
        "    df = df.withColumn(name, df[name].cast(IntegerType()))\r\n",
        "\r\n",
        "df = df.fillna(0)"
      ]
    },
    {
      "cell_type": "code",
      "execution_count": 41,
      "outputs": [
        {
          "output_type": "display_data",
          "data": {
            "application/vnd.livy.statement-meta+json": {
              "spark_pool": "tcccibele",
              "session_id": 4,
              "statement_id": 41,
              "state": "finished",
              "livy_statement_state": "available",
              "queued_time": "2021-11-20T19:01:44.1220905Z",
              "session_start_time": null,
              "execution_start_time": "2021-11-20T19:01:44.3255864Z",
              "execution_finish_time": "2021-11-20T19:01:46.1220889Z"
            },
            "text/plain": "StatementMeta(tcccibele, 4, 41, Finished, Available)"
          },
          "metadata": {}
        }
      ],
      "metadata": {
        "jupyter": {
          "source_hidden": false,
          "outputs_hidden": false
        },
        "nteract": {
          "transient": {
            "deleting": false
          }
        }
      },
      "source": [
        "# Escrever dados limpos em formato parque no azure storage\r\n",
        "df.write.format('parquet').mode('overwrite').save('/history_zone/2019/IdadeSuspeito/')"
      ]
    },
    {
      "cell_type": "code",
      "execution_count": 42,
      "outputs": [
        {
          "output_type": "display_data",
          "data": {
            "application/vnd.livy.statement-meta+json": {
              "spark_pool": "tcccibele",
              "session_id": 4,
              "statement_id": 42,
              "state": "finished",
              "livy_statement_state": "available",
              "queued_time": "2021-11-20T19:01:44.3424219Z",
              "session_start_time": null,
              "execution_start_time": "2021-11-20T19:01:46.2375001Z",
              "execution_finish_time": "2021-11-20T19:01:47.2715786Z"
            },
            "text/plain": "StatementMeta(tcccibele, 4, 42, Finished, Available)"
          },
          "metadata": {}
        },
        {
          "output_type": "display_data",
          "data": {
            "text/plain": "   FaixaEtariaSuspeito  Janeiro  Fevereiro  ...  Outubro  Novembro  Dezembro\n0           0 a 3 anos        0          0  ...        0         0         0\n1           4 a 7 anos        0          1  ...        1         0         0\n2          8 a 11 anos        1          4  ...        2         1         0\n3         12 a 14 anos       21         18  ...       11        12         4\n4         15 a 17 anos       82         70  ...       43        45        21\n5         18 a 24 anos      923        674  ...      704       654       349\n6         25 a 30 anos     1415       1164  ...     1163      1079       540\n7         31 a 35 anos     1177        946  ...      907       858       464\n8         36 a 40 anos     1378       1047  ...     1111      1035       532\n9         41 a 45 anos      901        770  ...      687       698       335\n10        46 a 50 anos      839        644  ...      633       561       299\n11        51 a 55 anos      478        389  ...      396       353       179\n12        56 a 60 anos      409        401  ...      329       255       188\n13        61 a 65 anos      230        205  ...      198       175       116\n14        66 a 70 anos      170        131  ...      103       117        48\n15    Maior de 70 anos      122        100  ...      116       107        59\n16       Não Informado     1403       1105  ...      876       738       418\n\n[17 rows x 13 columns]",
            "text/html": "<div>\n<style scoped>\n    .dataframe tbody tr th:only-of-type {\n        vertical-align: middle;\n    }\n\n    .dataframe tbody tr th {\n        vertical-align: top;\n    }\n\n    .dataframe thead th {\n        text-align: right;\n    }\n</style>\n<table border=\"1\" class=\"dataframe\">\n  <thead>\n    <tr style=\"text-align: right;\">\n      <th></th>\n      <th>FaixaEtariaSuspeito</th>\n      <th>Janeiro</th>\n      <th>Fevereiro</th>\n      <th>Março</th>\n      <th>Abril</th>\n      <th>Maio</th>\n      <th>Junho</th>\n      <th>Julho</th>\n      <th>Agosto</th>\n      <th>Setembro</th>\n      <th>Outubro</th>\n      <th>Novembro</th>\n      <th>Dezembro</th>\n    </tr>\n  </thead>\n  <tbody>\n    <tr>\n      <th>0</th>\n      <td>0 a 3 anos</td>\n      <td>0</td>\n      <td>0</td>\n      <td>0</td>\n      <td>0</td>\n      <td>0</td>\n      <td>0</td>\n      <td>0</td>\n      <td>0</td>\n      <td>0</td>\n      <td>0</td>\n      <td>0</td>\n      <td>0</td>\n    </tr>\n    <tr>\n      <th>1</th>\n      <td>4 a 7 anos</td>\n      <td>0</td>\n      <td>1</td>\n      <td>0</td>\n      <td>1</td>\n      <td>0</td>\n      <td>0</td>\n      <td>0</td>\n      <td>0</td>\n      <td>0</td>\n      <td>1</td>\n      <td>0</td>\n      <td>0</td>\n    </tr>\n    <tr>\n      <th>2</th>\n      <td>8 a 11 anos</td>\n      <td>1</td>\n      <td>4</td>\n      <td>2</td>\n      <td>1</td>\n      <td>0</td>\n      <td>0</td>\n      <td>1</td>\n      <td>1</td>\n      <td>2</td>\n      <td>2</td>\n      <td>1</td>\n      <td>0</td>\n    </tr>\n    <tr>\n      <th>3</th>\n      <td>12 a 14 anos</td>\n      <td>21</td>\n      <td>18</td>\n      <td>24</td>\n      <td>15</td>\n      <td>14</td>\n      <td>16</td>\n      <td>12</td>\n      <td>16</td>\n      <td>16</td>\n      <td>11</td>\n      <td>12</td>\n      <td>4</td>\n    </tr>\n    <tr>\n      <th>4</th>\n      <td>15 a 17 anos</td>\n      <td>82</td>\n      <td>70</td>\n      <td>59</td>\n      <td>70</td>\n      <td>55</td>\n      <td>67</td>\n      <td>63</td>\n      <td>46</td>\n      <td>50</td>\n      <td>43</td>\n      <td>45</td>\n      <td>21</td>\n    </tr>\n    <tr>\n      <th>5</th>\n      <td>18 a 24 anos</td>\n      <td>923</td>\n      <td>674</td>\n      <td>751</td>\n      <td>703</td>\n      <td>768</td>\n      <td>564</td>\n      <td>647</td>\n      <td>715</td>\n      <td>633</td>\n      <td>704</td>\n      <td>654</td>\n      <td>349</td>\n    </tr>\n    <tr>\n      <th>6</th>\n      <td>25 a 30 anos</td>\n      <td>1415</td>\n      <td>1164</td>\n      <td>1286</td>\n      <td>1107</td>\n      <td>1144</td>\n      <td>994</td>\n      <td>996</td>\n      <td>1172</td>\n      <td>1127</td>\n      <td>1163</td>\n      <td>1079</td>\n      <td>540</td>\n    </tr>\n    <tr>\n      <th>7</th>\n      <td>31 a 35 anos</td>\n      <td>1177</td>\n      <td>946</td>\n      <td>1055</td>\n      <td>959</td>\n      <td>888</td>\n      <td>825</td>\n      <td>831</td>\n      <td>897</td>\n      <td>962</td>\n      <td>907</td>\n      <td>858</td>\n      <td>464</td>\n    </tr>\n    <tr>\n      <th>8</th>\n      <td>36 a 40 anos</td>\n      <td>1378</td>\n      <td>1047</td>\n      <td>1264</td>\n      <td>1062</td>\n      <td>1059</td>\n      <td>964</td>\n      <td>962</td>\n      <td>1125</td>\n      <td>1106</td>\n      <td>1111</td>\n      <td>1035</td>\n      <td>532</td>\n    </tr>\n    <tr>\n      <th>9</th>\n      <td>41 a 45 anos</td>\n      <td>901</td>\n      <td>770</td>\n      <td>870</td>\n      <td>724</td>\n      <td>747</td>\n      <td>640</td>\n      <td>647</td>\n      <td>763</td>\n      <td>724</td>\n      <td>687</td>\n      <td>698</td>\n      <td>335</td>\n    </tr>\n    <tr>\n      <th>10</th>\n      <td>46 a 50 anos</td>\n      <td>839</td>\n      <td>644</td>\n      <td>752</td>\n      <td>637</td>\n      <td>631</td>\n      <td>522</td>\n      <td>571</td>\n      <td>662</td>\n      <td>626</td>\n      <td>633</td>\n      <td>561</td>\n      <td>299</td>\n    </tr>\n    <tr>\n      <th>11</th>\n      <td>51 a 55 anos</td>\n      <td>478</td>\n      <td>389</td>\n      <td>446</td>\n      <td>392</td>\n      <td>394</td>\n      <td>345</td>\n      <td>355</td>\n      <td>469</td>\n      <td>380</td>\n      <td>396</td>\n      <td>353</td>\n      <td>179</td>\n    </tr>\n    <tr>\n      <th>12</th>\n      <td>56 a 60 anos</td>\n      <td>409</td>\n      <td>401</td>\n      <td>348</td>\n      <td>305</td>\n      <td>330</td>\n      <td>294</td>\n      <td>302</td>\n      <td>333</td>\n      <td>283</td>\n      <td>329</td>\n      <td>255</td>\n      <td>188</td>\n    </tr>\n    <tr>\n      <th>13</th>\n      <td>61 a 65 anos</td>\n      <td>230</td>\n      <td>205</td>\n      <td>193</td>\n      <td>181</td>\n      <td>161</td>\n      <td>145</td>\n      <td>171</td>\n      <td>172</td>\n      <td>174</td>\n      <td>198</td>\n      <td>175</td>\n      <td>116</td>\n    </tr>\n    <tr>\n      <th>14</th>\n      <td>66 a 70 anos</td>\n      <td>170</td>\n      <td>131</td>\n      <td>117</td>\n      <td>125</td>\n      <td>115</td>\n      <td>99</td>\n      <td>82</td>\n      <td>118</td>\n      <td>111</td>\n      <td>103</td>\n      <td>117</td>\n      <td>48</td>\n    </tr>\n    <tr>\n      <th>15</th>\n      <td>Maior de 70 anos</td>\n      <td>122</td>\n      <td>100</td>\n      <td>105</td>\n      <td>104</td>\n      <td>105</td>\n      <td>88</td>\n      <td>86</td>\n      <td>112</td>\n      <td>97</td>\n      <td>116</td>\n      <td>107</td>\n      <td>59</td>\n    </tr>\n    <tr>\n      <th>16</th>\n      <td>Não Informado</td>\n      <td>1403</td>\n      <td>1105</td>\n      <td>1168</td>\n      <td>857</td>\n      <td>898</td>\n      <td>737</td>\n      <td>716</td>\n      <td>1027</td>\n      <td>1021</td>\n      <td>876</td>\n      <td>738</td>\n      <td>418</td>\n    </tr>\n  </tbody>\n</table>\n</div>"
          },
          "metadata": {}
        }
      ],
      "metadata": {
        "jupyter": {
          "source_hidden": false,
          "outputs_hidden": false
        },
        "nteract": {
          "transient": {
            "deleting": false
          }
        }
      },
      "source": [
        "df = spark.read.parquet('/history_zone/2019/IdadeSuspeito/')\r\n",
        "df.toPandas()"
      ]
    }
  ]
}