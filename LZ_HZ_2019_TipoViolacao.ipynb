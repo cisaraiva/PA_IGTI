{
  "nbformat": 4,
  "nbformat_minor": 2,
  "cells": [
    {
      "cell_type": "code",
      "execution_count": 1,
      "outputs": [
        {
          "output_type": "display_data",
          "data": {
            "application/vnd.livy.statement-meta+json": {
              "spark_pool": "tcccibele",
              "session_id": 10,
              "statement_id": 1,
              "state": "finished",
              "livy_statement_state": "available",
              "queued_time": "2021-11-20T19:23:05.33807Z",
              "session_start_time": "2021-11-20T19:23:05.3985031Z",
              "execution_start_time": "2021-11-20T19:23:52.3800505Z",
              "execution_finish_time": "2021-11-20T19:23:52.5215779Z"
            },
            "text/plain": "StatementMeta(tcccibele, 10, 1, Finished, Available)"
          },
          "metadata": {}
        }
      ],
      "metadata": {
        "jupyter": {
          "source_hidden": false,
          "outputs_hidden": false
        },
        "nteract": {
          "transient": {
            "deleting": false
          }
        }
      },
      "source": [
        "from pyspark.sql.types import StructField, StructType, IntegerType, StringType\r\n",
        "from pyspark.sql import functions as f"
      ]
    },
    {
      "cell_type": "code",
      "execution_count": 2,
      "outputs": [
        {
          "output_type": "display_data",
          "data": {
            "application/vnd.livy.statement-meta+json": {
              "spark_pool": "tcccibele",
              "session_id": 10,
              "statement_id": 2,
              "state": "finished",
              "livy_statement_state": "available",
              "queued_time": "2021-11-20T19:23:05.3411982Z",
              "session_start_time": null,
              "execution_start_time": "2021-11-20T19:23:52.6166228Z",
              "execution_finish_time": "2021-11-20T19:23:52.7612565Z"
            },
            "text/plain": "StatementMeta(tcccibele, 10, 2, Finished, Available)"
          },
          "metadata": {}
        }
      ],
      "metadata": {},
      "source": [
        "# Definir schema do arquivo\r\n",
        "schema = StructType([ \r\n",
        "    StructField(\"None\", StringType(), True), \r\n",
        "    StructField(\"TipoViolacao\", StringType(), True), \r\n",
        "    StructField(\"Janeiro\", StringType(), True), \r\n",
        "    StructField(\"Fevereiro\", StringType(), True), \r\n",
        "    StructField(\"Março\", StringType(), True), \r\n",
        "    StructField(\"Abril\", StringType(), True), \r\n",
        "    StructField(\"Maio\", StringType(), True), \r\n",
        "    StructField(\"Junho\", StringType(), True), \r\n",
        "    StructField(\"Julho\", StringType(), True), \r\n",
        "    StructField(\"Agosto\", StringType(), True), \r\n",
        "    StructField(\"Setembro\", StringType(), True), \r\n",
        "    StructField(\"Outubro\", StringType(), True), \r\n",
        "    StructField(\"Novembro\", StringType(), True), \r\n",
        "    StructField(\"Dezembro\", StringType(), True), \r\n",
        "    StructField(\"Total\", StringType(), True)\r\n",
        "])"
      ]
    },
    {
      "cell_type": "code",
      "execution_count": 3,
      "outputs": [
        {
          "output_type": "display_data",
          "data": {
            "application/vnd.livy.statement-meta+json": {
              "spark_pool": "tcccibele",
              "session_id": 10,
              "statement_id": 3,
              "state": "finished",
              "livy_statement_state": "available",
              "queued_time": "2021-11-20T19:23:05.3477633Z",
              "session_start_time": null,
              "execution_start_time": "2021-11-20T19:23:52.8568647Z",
              "execution_finish_time": "2021-11-20T19:23:56.7497191Z"
            },
            "text/plain": "StatementMeta(tcccibele, 10, 3, Finished, Available)"
          },
          "metadata": {}
        }
      ],
      "metadata": {
        "jupyter": {
          "source_hidden": false,
          "outputs_hidden": false
        },
        "nteract": {
          "transient": {
            "deleting": false
          }
        }
      },
      "source": [
        "# Ler arquivo de origem da landing zone\r\n",
        "df = spark.read.format(\"csv\") \\\r\n",
        "            .schema(schema) \\\r\n",
        "            .options(quote='\"') \\\r\n",
        "            .load('/landing_zone/2019/Balanco-2019-Ligue180-Tipo de Violação.csv')"
      ]
    },
    {
      "cell_type": "code",
      "execution_count": 4,
      "outputs": [
        {
          "output_type": "display_data",
          "data": {
            "application/vnd.livy.statement-meta+json": {
              "spark_pool": "tcccibele",
              "session_id": 10,
              "statement_id": 4,
              "state": "finished",
              "livy_statement_state": "available",
              "queued_time": "2021-11-20T19:23:05.3528541Z",
              "session_start_time": null,
              "execution_start_time": "2021-11-20T19:23:56.8559976Z",
              "execution_finish_time": "2021-11-20T19:23:57.3653473Z"
            },
            "text/plain": "StatementMeta(tcccibele, 10, 4, Finished, Available)"
          },
          "metadata": {}
        }
      ],
      "metadata": {
        "jupyter": {
          "source_hidden": false,
          "outputs_hidden": false
        },
        "nteract": {
          "transient": {
            "deleting": false
          }
        }
      },
      "source": [
        "# Remover colunas e linhas sem valor para o data lake\r\n",
        "df = df.where((df[1].isNotNull()) \\\r\n",
        "                & (df[1] != 'Total') \\\r\n",
        "                & (df[-1] != 'Total 2019') \\\r\n",
        "                & (df[-1].isNotNull()))\r\n",
        "df = df.drop('None')\r\n",
        "df = df.drop('Total')"
      ]
    },
    {
      "cell_type": "code",
      "execution_count": 5,
      "outputs": [
        {
          "output_type": "display_data",
          "data": {
            "application/vnd.livy.statement-meta+json": {
              "spark_pool": "tcccibele",
              "session_id": 10,
              "statement_id": 5,
              "state": "finished",
              "livy_statement_state": "available",
              "queued_time": "2021-11-20T19:23:05.3625995Z",
              "session_start_time": null,
              "execution_start_time": "2021-11-20T19:23:57.4745069Z",
              "execution_finish_time": "2021-11-20T19:23:58.4971576Z"
            },
            "text/plain": "StatementMeta(tcccibele, 10, 5, Finished, Available)"
          },
          "metadata": {}
        }
      ],
      "metadata": {
        "jupyter": {
          "source_hidden": false,
          "outputs_hidden": false
        },
        "nteract": {
          "transient": {
            "deleting": false
          }
        }
      },
      "source": [
        "# Remover \",\" de todos os campos e substitui null por 0\r\n",
        "names = df.schema.names\r\n",
        "for name in names:\r\n",
        "    if name == 'TipoViolacao':\r\n",
        "        continue\r\n",
        "    df = df.withColumn(name,f.regexp_replace(name,',',''))\r\n",
        "    df = df.withColumn(name, df[name].cast(IntegerType()))\r\n",
        "\r\n",
        "df = df.fillna(0)"
      ]
    },
    {
      "cell_type": "code",
      "execution_count": 6,
      "outputs": [
        {
          "output_type": "display_data",
          "data": {
            "application/vnd.livy.statement-meta+json": {
              "spark_pool": "tcccibele",
              "session_id": 10,
              "statement_id": 6,
              "state": "finished",
              "livy_statement_state": "available",
              "queued_time": "2021-11-20T19:23:05.3671885Z",
              "session_start_time": null,
              "execution_start_time": "2021-11-20T19:23:58.6028558Z",
              "execution_finish_time": "2021-11-20T19:24:13.2126177Z"
            },
            "text/plain": "StatementMeta(tcccibele, 10, 6, Finished, Available)"
          },
          "metadata": {}
        }
      ],
      "metadata": {
        "jupyter": {
          "source_hidden": false,
          "outputs_hidden": false
        },
        "nteract": {
          "transient": {
            "deleting": false
          }
        }
      },
      "source": [
        "# Escrever dados limpos em formato parque no azure storage\r\n",
        "df.write.format('parquet').mode('overwrite').save('/history_zone/2019/TipoViolacao/')"
      ]
    },
    {
      "cell_type": "code",
      "execution_count": 7,
      "outputs": [
        {
          "output_type": "display_data",
          "data": {
            "application/vnd.livy.statement-meta+json": {
              "spark_pool": "tcccibele",
              "session_id": 10,
              "statement_id": 7,
              "state": "finished",
              "livy_statement_state": "available",
              "queued_time": "2021-11-20T19:23:05.3706111Z",
              "session_start_time": null,
              "execution_start_time": "2021-11-20T19:24:13.3171277Z",
              "execution_finish_time": "2021-11-20T19:24:25.9022584Z"
            },
            "text/plain": "StatementMeta(tcccibele, 10, 7, Finished, Available)"
          },
          "metadata": {}
        },
        {
          "output_type": "display_data",
          "data": {
            "text/plain": "                              TipoViolacao  Janeiro  ...  Novembro  Dezembro\n0                                   Ameaça      371  ...       261       133\n1                          Cárcere Privado      308  ...       308       147\n2                              Feminicídio       12  ...         1         0\n3                 Tentativa de Feminicídio      795  ...        24        10\n4                         Trabalho Escravo        3  ...         1         0\n5                      Tráfico de Mulheres        3  ...         4         4\n6                     Violência no Esporte        0  ...         0         0\n7   Violência contra Diversidade Religiosa        1  ...         1         0\n8   Violência Doméstica e Familiar (Total)     7004  ...      5391      2910\n9     Descumprimento de Medidas Protetivas      246  ...       291       174\n10                Tentativa de Feminicídio        0  ...       939       499\n11                  Tentativa de Homicídio        0  ...         0         0\n12                        Violência Física     4654  ...      2777      1482\n13                         Violência Moral     1344  ...       958       500\n14                   Violência Patrimonial      194  ...       108        67\n15                   Violência Psicológica      494  ...       295       175\n16                        Violência Sexual       72  ...        23        13\n17                        Violência Física      241  ...       159        73\n18                         Violência Moral      407  ...       316       148\n19                    Violência Obstétrica       33  ...         7         3\n20                      Violência Policial       88  ...        36        16\n21                   Violência Patrimonial        0  ...         0         0\n22                   Violência Psicológica        0  ...         0         0\n23                        Violência Sexual      238  ...       166       103\n24                       Violência Virtual       45  ...        13         5\n\n[25 rows x 13 columns]",
            "text/html": "<div>\n<style scoped>\n    .dataframe tbody tr th:only-of-type {\n        vertical-align: middle;\n    }\n\n    .dataframe tbody tr th {\n        vertical-align: top;\n    }\n\n    .dataframe thead th {\n        text-align: right;\n    }\n</style>\n<table border=\"1\" class=\"dataframe\">\n  <thead>\n    <tr style=\"text-align: right;\">\n      <th></th>\n      <th>TipoViolacao</th>\n      <th>Janeiro</th>\n      <th>Fevereiro</th>\n      <th>Março</th>\n      <th>Abril</th>\n      <th>Maio</th>\n      <th>Junho</th>\n      <th>Julho</th>\n      <th>Agosto</th>\n      <th>Setembro</th>\n      <th>Outubro</th>\n      <th>Novembro</th>\n      <th>Dezembro</th>\n    </tr>\n  </thead>\n  <tbody>\n    <tr>\n      <th>0</th>\n      <td>Ameaça</td>\n      <td>371</td>\n      <td>350</td>\n      <td>331</td>\n      <td>269</td>\n      <td>275</td>\n      <td>248</td>\n      <td>263</td>\n      <td>250</td>\n      <td>228</td>\n      <td>277</td>\n      <td>261</td>\n      <td>133</td>\n    </tr>\n    <tr>\n      <th>1</th>\n      <td>Cárcere Privado</td>\n      <td>308</td>\n      <td>227</td>\n      <td>203</td>\n      <td>190</td>\n      <td>180</td>\n      <td>135</td>\n      <td>165</td>\n      <td>169</td>\n      <td>143</td>\n      <td>336</td>\n      <td>308</td>\n      <td>147</td>\n    </tr>\n    <tr>\n      <th>2</th>\n      <td>Feminicídio</td>\n      <td>12</td>\n      <td>13</td>\n      <td>6</td>\n      <td>5</td>\n      <td>4</td>\n      <td>2</td>\n      <td>8</td>\n      <td>4</td>\n      <td>4</td>\n      <td>2</td>\n      <td>1</td>\n      <td>0</td>\n    </tr>\n    <tr>\n      <th>3</th>\n      <td>Tentativa de Feminicídio</td>\n      <td>795</td>\n      <td>592</td>\n      <td>407</td>\n      <td>329</td>\n      <td>376</td>\n      <td>256</td>\n      <td>272</td>\n      <td>372</td>\n      <td>247</td>\n      <td>35</td>\n      <td>24</td>\n      <td>10</td>\n    </tr>\n    <tr>\n      <th>4</th>\n      <td>Trabalho Escravo</td>\n      <td>3</td>\n      <td>4</td>\n      <td>4</td>\n      <td>1</td>\n      <td>0</td>\n      <td>2</td>\n      <td>0</td>\n      <td>1</td>\n      <td>1</td>\n      <td>0</td>\n      <td>1</td>\n      <td>0</td>\n    </tr>\n    <tr>\n      <th>5</th>\n      <td>Tráfico de Mulheres</td>\n      <td>3</td>\n      <td>1</td>\n      <td>2</td>\n      <td>4</td>\n      <td>5</td>\n      <td>1</td>\n      <td>4</td>\n      <td>8</td>\n      <td>1</td>\n      <td>1</td>\n      <td>4</td>\n      <td>4</td>\n    </tr>\n    <tr>\n      <th>6</th>\n      <td>Violência no Esporte</td>\n      <td>0</td>\n      <td>0</td>\n      <td>0</td>\n      <td>0</td>\n      <td>0</td>\n      <td>0</td>\n      <td>0</td>\n      <td>0</td>\n      <td>0</td>\n      <td>0</td>\n      <td>0</td>\n      <td>0</td>\n    </tr>\n    <tr>\n      <th>7</th>\n      <td>Violência contra Diversidade Religiosa</td>\n      <td>1</td>\n      <td>5</td>\n      <td>2</td>\n      <td>0</td>\n      <td>1</td>\n      <td>2</td>\n      <td>1</td>\n      <td>0</td>\n      <td>0</td>\n      <td>2</td>\n      <td>1</td>\n      <td>0</td>\n    </tr>\n    <tr>\n      <th>8</th>\n      <td>Violência Doméstica e Familiar (Total)</td>\n      <td>7004</td>\n      <td>5547</td>\n      <td>6644</td>\n      <td>5750</td>\n      <td>5759</td>\n      <td>5065</td>\n      <td>5205</td>\n      <td>6223</td>\n      <td>6109</td>\n      <td>5831</td>\n      <td>5391</td>\n      <td>2910</td>\n    </tr>\n    <tr>\n      <th>9</th>\n      <td>Descumprimento de Medidas Protetivas</td>\n      <td>246</td>\n      <td>191</td>\n      <td>219</td>\n      <td>207</td>\n      <td>189</td>\n      <td>156</td>\n      <td>222</td>\n      <td>245</td>\n      <td>273</td>\n      <td>313</td>\n      <td>291</td>\n      <td>174</td>\n    </tr>\n    <tr>\n      <th>10</th>\n      <td>Tentativa de Feminicídio</td>\n      <td>0</td>\n      <td>0</td>\n      <td>229</td>\n      <td>204</td>\n      <td>191</td>\n      <td>163</td>\n      <td>188</td>\n      <td>203</td>\n      <td>421</td>\n      <td>1066</td>\n      <td>939</td>\n      <td>499</td>\n    </tr>\n    <tr>\n      <th>11</th>\n      <td>Tentativa de Homicídio</td>\n      <td>0</td>\n      <td>0</td>\n      <td>0</td>\n      <td>8</td>\n      <td>0</td>\n      <td>0</td>\n      <td>6</td>\n      <td>4</td>\n      <td>0</td>\n      <td>0</td>\n      <td>0</td>\n      <td>0</td>\n    </tr>\n    <tr>\n      <th>12</th>\n      <td>Violência Física</td>\n      <td>4654</td>\n      <td>3591</td>\n      <td>4085</td>\n      <td>3609</td>\n      <td>3657</td>\n      <td>3263</td>\n      <td>3328</td>\n      <td>3890</td>\n      <td>3822</td>\n      <td>3050</td>\n      <td>2777</td>\n      <td>1482</td>\n    </tr>\n    <tr>\n      <th>13</th>\n      <td>Violência Moral</td>\n      <td>1344</td>\n      <td>1153</td>\n      <td>1518</td>\n      <td>1220</td>\n      <td>1174</td>\n      <td>1059</td>\n      <td>981</td>\n      <td>1353</td>\n      <td>1163</td>\n      <td>964</td>\n      <td>958</td>\n      <td>500</td>\n    </tr>\n    <tr>\n      <th>14</th>\n      <td>Violência Patrimonial</td>\n      <td>194</td>\n      <td>167</td>\n      <td>146</td>\n      <td>136</td>\n      <td>149</td>\n      <td>101</td>\n      <td>115</td>\n      <td>130</td>\n      <td>73</td>\n      <td>98</td>\n      <td>108</td>\n      <td>67</td>\n    </tr>\n    <tr>\n      <th>15</th>\n      <td>Violência Psicológica</td>\n      <td>494</td>\n      <td>404</td>\n      <td>365</td>\n      <td>312</td>\n      <td>334</td>\n      <td>271</td>\n      <td>312</td>\n      <td>331</td>\n      <td>285</td>\n      <td>309</td>\n      <td>295</td>\n      <td>175</td>\n    </tr>\n    <tr>\n      <th>16</th>\n      <td>Violência Sexual</td>\n      <td>72</td>\n      <td>41</td>\n      <td>82</td>\n      <td>54</td>\n      <td>65</td>\n      <td>52</td>\n      <td>53</td>\n      <td>67</td>\n      <td>72</td>\n      <td>31</td>\n      <td>23</td>\n      <td>13</td>\n    </tr>\n    <tr>\n      <th>17</th>\n      <td>Violência Física</td>\n      <td>241</td>\n      <td>220</td>\n      <td>201</td>\n      <td>158</td>\n      <td>163</td>\n      <td>122</td>\n      <td>107</td>\n      <td>139</td>\n      <td>124</td>\n      <td>190</td>\n      <td>159</td>\n      <td>73</td>\n    </tr>\n    <tr>\n      <th>18</th>\n      <td>Violência Moral</td>\n      <td>407</td>\n      <td>358</td>\n      <td>338</td>\n      <td>298</td>\n      <td>265</td>\n      <td>255</td>\n      <td>241</td>\n      <td>253</td>\n      <td>245</td>\n      <td>358</td>\n      <td>316</td>\n      <td>148</td>\n    </tr>\n    <tr>\n      <th>19</th>\n      <td>Violência Obstétrica</td>\n      <td>33</td>\n      <td>32</td>\n      <td>13</td>\n      <td>9</td>\n      <td>16</td>\n      <td>13</td>\n      <td>14</td>\n      <td>7</td>\n      <td>9</td>\n      <td>8</td>\n      <td>7</td>\n      <td>3</td>\n    </tr>\n    <tr>\n      <th>20</th>\n      <td>Violência Policial</td>\n      <td>88</td>\n      <td>79</td>\n      <td>69</td>\n      <td>42</td>\n      <td>58</td>\n      <td>49</td>\n      <td>32</td>\n      <td>28</td>\n      <td>26</td>\n      <td>43</td>\n      <td>36</td>\n      <td>16</td>\n    </tr>\n    <tr>\n      <th>21</th>\n      <td>Violência Patrimonial</td>\n      <td>0</td>\n      <td>0</td>\n      <td>0</td>\n      <td>0</td>\n      <td>0</td>\n      <td>0</td>\n      <td>0</td>\n      <td>0</td>\n      <td>0</td>\n      <td>0</td>\n      <td>0</td>\n      <td>0</td>\n    </tr>\n    <tr>\n      <th>22</th>\n      <td>Violência Psicológica</td>\n      <td>0</td>\n      <td>0</td>\n      <td>0</td>\n      <td>0</td>\n      <td>0</td>\n      <td>0</td>\n      <td>0</td>\n      <td>0</td>\n      <td>0</td>\n      <td>0</td>\n      <td>0</td>\n      <td>0</td>\n    </tr>\n    <tr>\n      <th>23</th>\n      <td>Violência Sexual</td>\n      <td>238</td>\n      <td>206</td>\n      <td>181</td>\n      <td>161</td>\n      <td>189</td>\n      <td>134</td>\n      <td>114</td>\n      <td>153</td>\n      <td>153</td>\n      <td>180</td>\n      <td>166</td>\n      <td>103</td>\n    </tr>\n    <tr>\n      <th>24</th>\n      <td>Violência Virtual</td>\n      <td>45</td>\n      <td>35</td>\n      <td>39</td>\n      <td>27</td>\n      <td>18</td>\n      <td>16</td>\n      <td>16</td>\n      <td>21</td>\n      <td>22</td>\n      <td>17</td>\n      <td>13</td>\n      <td>5</td>\n    </tr>\n  </tbody>\n</table>\n</div>"
          },
          "metadata": {}
        }
      ],
      "metadata": {
        "jupyter": {
          "source_hidden": false,
          "outputs_hidden": false
        },
        "nteract": {
          "transient": {
            "deleting": false
          }
        }
      },
      "source": [
        "df = spark.read.parquet('/history_zone/2019/TipoViolacao/')\r\n",
        "df.toPandas()"
      ]
    }
  ],
  "metadata": {
    "description": null,
    "save_output": true,
    "kernelspec": {
      "name": "synapse_pyspark",
      "display_name": "Synapse PySpark"
    },
    "language_info": {
      "name": "python"
    },
    "synapse_widget": {
      "version": "0.1",
      "state": {}
    }
  }
}