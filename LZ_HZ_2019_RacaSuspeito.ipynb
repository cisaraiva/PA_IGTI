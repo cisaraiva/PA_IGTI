{
  "nbformat": 4,
  "nbformat_minor": 2,
  "cells": [
    {
      "cell_type": "code",
      "execution_count": 1,
      "outputs": [
        {
          "output_type": "display_data",
          "data": {
            "application/vnd.livy.statement-meta+json": {
              "spark_pool": "tcccibele",
              "session_id": 8,
              "statement_id": 1,
              "state": "finished",
              "livy_statement_state": "available",
              "queued_time": "2021-11-20T19:11:42.8926333Z",
              "session_start_time": "2021-11-20T19:11:42.9414531Z",
              "execution_start_time": "2021-11-20T19:12:31.7816691Z",
              "execution_finish_time": "2021-11-20T19:12:31.9281411Z"
            },
            "text/plain": "StatementMeta(tcccibele, 8, 1, Finished, Available)"
          },
          "metadata": {}
        }
      ],
      "metadata": {
        "jupyter": {
          "source_hidden": false,
          "outputs_hidden": false
        },
        "nteract": {
          "transient": {
            "deleting": false
          }
        }
      },
      "source": [
        "from pyspark.sql.types import StructField, StructType, IntegerType, StringType\r\n",
        "from pyspark.sql import functions as f"
      ]
    },
    {
      "cell_type": "code",
      "execution_count": 2,
      "outputs": [
        {
          "output_type": "display_data",
          "data": {
            "application/vnd.livy.statement-meta+json": {
              "spark_pool": "tcccibele",
              "session_id": 8,
              "statement_id": 2,
              "state": "finished",
              "livy_statement_state": "available",
              "queued_time": "2021-11-20T19:11:42.8948271Z",
              "session_start_time": null,
              "execution_start_time": "2021-11-20T19:12:32.0275297Z",
              "execution_finish_time": "2021-11-20T19:12:32.178274Z"
            },
            "text/plain": "StatementMeta(tcccibele, 8, 2, Finished, Available)"
          },
          "metadata": {}
        }
      ],
      "metadata": {},
      "source": [
        "# Definir schema do arquivo\r\n",
        "schema = StructType([ \r\n",
        "    StructField(\"None\", StringType(), True), \r\n",
        "    StructField(\"RacaSuspeito\", StringType(), True), \r\n",
        "    StructField(\"Janeiro\", StringType(), True), \r\n",
        "    StructField(\"Fevereiro\", StringType(), True), \r\n",
        "    StructField(\"Março\", StringType(), True), \r\n",
        "    StructField(\"Abril\", StringType(), True), \r\n",
        "    StructField(\"Maio\", StringType(), True), \r\n",
        "    StructField(\"Junho\", StringType(), True), \r\n",
        "    StructField(\"Julho\", StringType(), True), \r\n",
        "    StructField(\"Agosto\", StringType(), True), \r\n",
        "    StructField(\"Setembro\", StringType(), True), \r\n",
        "    StructField(\"Outubro\", StringType(), True), \r\n",
        "    StructField(\"Novembro\", StringType(), True), \r\n",
        "    StructField(\"Dezembro\", StringType(), True), \r\n",
        "    StructField(\"Total\", StringType(), True)\r\n",
        "])"
      ]
    },
    {
      "cell_type": "code",
      "execution_count": 3,
      "outputs": [
        {
          "output_type": "display_data",
          "data": {
            "application/vnd.livy.statement-meta+json": {
              "spark_pool": "tcccibele",
              "session_id": 8,
              "statement_id": 3,
              "state": "finished",
              "livy_statement_state": "available",
              "queued_time": "2021-11-20T19:11:42.9033257Z",
              "session_start_time": null,
              "execution_start_time": "2021-11-20T19:12:32.2734279Z",
              "execution_finish_time": "2021-11-20T19:12:37.4622929Z"
            },
            "text/plain": "StatementMeta(tcccibele, 8, 3, Finished, Available)"
          },
          "metadata": {}
        }
      ],
      "metadata": {
        "jupyter": {
          "source_hidden": false,
          "outputs_hidden": false
        },
        "nteract": {
          "transient": {
            "deleting": false
          }
        }
      },
      "source": [
        "# Ler arquivo de origem da landing zone\r\n",
        "df = spark.read.format(\"csv\") \\\r\n",
        "            .schema(schema) \\\r\n",
        "            .options(quote='\"') \\\r\n",
        "            .load('/landing_zone/2019/Balanco-2019-Ligue180-Raça-cor do Suspeito.csv')"
      ]
    },
    {
      "cell_type": "code",
      "execution_count": 4,
      "outputs": [
        {
          "output_type": "display_data",
          "data": {
            "application/vnd.livy.statement-meta+json": {
              "spark_pool": "tcccibele",
              "session_id": 8,
              "statement_id": 4,
              "state": "finished",
              "livy_statement_state": "available",
              "queued_time": "2021-11-20T19:11:42.9090664Z",
              "session_start_time": null,
              "execution_start_time": "2021-11-20T19:12:37.5566515Z",
              "execution_finish_time": "2021-11-20T19:12:38.0547009Z"
            },
            "text/plain": "StatementMeta(tcccibele, 8, 4, Finished, Available)"
          },
          "metadata": {}
        }
      ],
      "metadata": {
        "jupyter": {
          "source_hidden": false,
          "outputs_hidden": false
        },
        "nteract": {
          "transient": {
            "deleting": false
          }
        }
      },
      "source": [
        "# Remover colunas e linhas sem valor para o data lake\r\n",
        "df = df.where((df[1].isNotNull()) \\\r\n",
        "                & (df[1] != 'Total') \\\r\n",
        "                & (df[-1] != 'Total 2019') \\\r\n",
        "                & (df[-1].isNotNull()))\r\n",
        "df = df.drop('None')\r\n",
        "df = df.drop('Total')"
      ]
    },
    {
      "cell_type": "code",
      "execution_count": 5,
      "outputs": [
        {
          "output_type": "display_data",
          "data": {
            "application/vnd.livy.statement-meta+json": {
              "spark_pool": "tcccibele",
              "session_id": 8,
              "statement_id": 5,
              "state": "finished",
              "livy_statement_state": "available",
              "queued_time": "2021-11-20T19:11:42.9158352Z",
              "session_start_time": null,
              "execution_start_time": "2021-11-20T19:12:38.1712079Z",
              "execution_finish_time": "2021-11-20T19:12:39.2116883Z"
            },
            "text/plain": "StatementMeta(tcccibele, 8, 5, Finished, Available)"
          },
          "metadata": {}
        }
      ],
      "metadata": {
        "jupyter": {
          "source_hidden": false,
          "outputs_hidden": false
        },
        "nteract": {
          "transient": {
            "deleting": false
          }
        }
      },
      "source": [
        "# Remover \",\" de todos os campos e substitui null por 0\r\n",
        "names = df.schema.names\r\n",
        "for name in names:\r\n",
        "    if name == 'RacaSuspeito':\r\n",
        "        continue\r\n",
        "    df = df.withColumn(name,f.regexp_replace(name,',',''))\r\n",
        "    df = df.withColumn(name, df[name].cast(IntegerType()))\r\n",
        "\r\n",
        "df = df.fillna(0)"
      ]
    },
    {
      "cell_type": "code",
      "execution_count": 6,
      "outputs": [
        {
          "output_type": "display_data",
          "data": {
            "application/vnd.livy.statement-meta+json": {
              "spark_pool": "tcccibele",
              "session_id": 8,
              "statement_id": 6,
              "state": "finished",
              "livy_statement_state": "available",
              "queued_time": "2021-11-20T19:11:42.9283054Z",
              "session_start_time": null,
              "execution_start_time": "2021-11-20T19:12:39.317209Z",
              "execution_finish_time": "2021-11-20T19:12:53.9018994Z"
            },
            "text/plain": "StatementMeta(tcccibele, 8, 6, Finished, Available)"
          },
          "metadata": {}
        }
      ],
      "metadata": {
        "jupyter": {
          "source_hidden": false,
          "outputs_hidden": false
        },
        "nteract": {
          "transient": {
            "deleting": false
          }
        }
      },
      "source": [
        "# Escrever dados limpos em formato parque no azure storage\r\n",
        "df.write.format('parquet').mode('overwrite').save('/history_zone/2019/RacaSuspeito/')"
      ]
    },
    {
      "cell_type": "code",
      "execution_count": 7,
      "outputs": [
        {
          "output_type": "display_data",
          "data": {
            "application/vnd.livy.statement-meta+json": {
              "spark_pool": "tcccibele",
              "session_id": 8,
              "statement_id": 7,
              "state": "finished",
              "livy_statement_state": "available",
              "queued_time": "2021-11-20T19:11:42.9326421Z",
              "session_start_time": null,
              "execution_start_time": "2021-11-20T19:12:54.0008703Z",
              "execution_finish_time": "2021-11-20T19:12:57.8727707Z"
            },
            "text/plain": "StatementMeta(tcccibele, 8, 7, Finished, Available)"
          },
          "metadata": {}
        },
        {
          "output_type": "display_data",
          "data": {
            "text/plain": "    RacaSuspeito  Janeiro  Fevereiro  ...  Outubro  Novembro  Dezembro\n0        Amarela       93         72  ...       52        29        20\n1         Branca     3344       2616  ...     2609      2347      1303\n2       Indígena       44         45  ...       38        32        20\n3          Parda     3166       2708  ...     2657      2380      1289\n4          Preta     1328       1026  ...     1005      1060       483\n5  Não Informado     1574       1202  ...      919       840       437\n\n[6 rows x 13 columns]",
            "text/html": "<div>\n<style scoped>\n    .dataframe tbody tr th:only-of-type {\n        vertical-align: middle;\n    }\n\n    .dataframe tbody tr th {\n        vertical-align: top;\n    }\n\n    .dataframe thead th {\n        text-align: right;\n    }\n</style>\n<table border=\"1\" class=\"dataframe\">\n  <thead>\n    <tr style=\"text-align: right;\">\n      <th></th>\n      <th>RacaSuspeito</th>\n      <th>Janeiro</th>\n      <th>Fevereiro</th>\n      <th>Março</th>\n      <th>Abril</th>\n      <th>Maio</th>\n      <th>Junho</th>\n      <th>Julho</th>\n      <th>Agosto</th>\n      <th>Setembro</th>\n      <th>Outubro</th>\n      <th>Novembro</th>\n      <th>Dezembro</th>\n    </tr>\n  </thead>\n  <tbody>\n    <tr>\n      <th>0</th>\n      <td>Amarela</td>\n      <td>93</td>\n      <td>72</td>\n      <td>73</td>\n      <td>62</td>\n      <td>51</td>\n      <td>42</td>\n      <td>61</td>\n      <td>58</td>\n      <td>50</td>\n      <td>52</td>\n      <td>29</td>\n      <td>20</td>\n    </tr>\n    <tr>\n      <th>1</th>\n      <td>Branca</td>\n      <td>3344</td>\n      <td>2616</td>\n      <td>2896</td>\n      <td>2464</td>\n      <td>2472</td>\n      <td>2240</td>\n      <td>2326</td>\n      <td>2631</td>\n      <td>2563</td>\n      <td>2609</td>\n      <td>2347</td>\n      <td>1303</td>\n    </tr>\n    <tr>\n      <th>2</th>\n      <td>Indígena</td>\n      <td>44</td>\n      <td>45</td>\n      <td>50</td>\n      <td>50</td>\n      <td>43</td>\n      <td>38</td>\n      <td>34</td>\n      <td>50</td>\n      <td>41</td>\n      <td>38</td>\n      <td>32</td>\n      <td>20</td>\n    </tr>\n    <tr>\n      <th>3</th>\n      <td>Parda</td>\n      <td>3166</td>\n      <td>2708</td>\n      <td>2954</td>\n      <td>2640</td>\n      <td>2657</td>\n      <td>2289</td>\n      <td>2301</td>\n      <td>2680</td>\n      <td>2532</td>\n      <td>2657</td>\n      <td>2380</td>\n      <td>1289</td>\n    </tr>\n    <tr>\n      <th>4</th>\n      <td>Preta</td>\n      <td>1328</td>\n      <td>1026</td>\n      <td>1212</td>\n      <td>1110</td>\n      <td>1114</td>\n      <td>921</td>\n      <td>965</td>\n      <td>1125</td>\n      <td>1056</td>\n      <td>1005</td>\n      <td>1060</td>\n      <td>483</td>\n    </tr>\n    <tr>\n      <th>5</th>\n      <td>Não Informado</td>\n      <td>1574</td>\n      <td>1202</td>\n      <td>1255</td>\n      <td>917</td>\n      <td>972</td>\n      <td>770</td>\n      <td>755</td>\n      <td>1084</td>\n      <td>1070</td>\n      <td>919</td>\n      <td>840</td>\n      <td>437</td>\n    </tr>\n  </tbody>\n</table>\n</div>"
          },
          "metadata": {}
        }
      ],
      "metadata": {
        "jupyter": {
          "source_hidden": false,
          "outputs_hidden": false
        },
        "nteract": {
          "transient": {
            "deleting": false
          }
        }
      },
      "source": [
        "df = spark.read.parquet('/history_zone/2019/RacaSuspeito/')\r\n",
        "df.toPandas()"
      ]
    }
  ],
  "metadata": {
    "description": null,
    "save_output": true,
    "kernelspec": {
      "name": "synapse_pyspark",
      "display_name": "Synapse PySpark"
    },
    "language_info": {
      "name": "python"
    },
    "synapse_widget": {
      "version": "0.1",
      "state": {}
    }
  }
}