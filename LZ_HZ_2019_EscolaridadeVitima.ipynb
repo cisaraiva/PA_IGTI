{
  "nbformat": 4,
  "nbformat_minor": 2,
  "cells": [
    {
      "cell_type": "code",
      "execution_count": 74,
      "outputs": [
        {
          "output_type": "display_data",
          "data": {
            "application/vnd.livy.statement-meta+json": {
              "spark_pool": "tcccibele",
              "session_id": 5,
              "statement_id": 74,
              "state": "finished",
              "livy_statement_state": "available",
              "queued_time": "2021-11-20T18:56:22.2587026Z",
              "session_start_time": null,
              "execution_start_time": "2021-11-20T18:56:22.401921Z",
              "execution_finish_time": "2021-11-20T18:56:22.4020183Z"
            },
            "text/plain": "StatementMeta(tcccibele, 5, 74, Finished, Available)"
          },
          "metadata": {}
        }
      ],
      "metadata": {
        "jupyter": {
          "source_hidden": false,
          "outputs_hidden": false
        },
        "nteract": {
          "transient": {
            "deleting": false
          }
        }
      },
      "source": [
        "from pyspark.sql.types import StructField, StructType, IntegerType, StringType\r\n",
        "from pyspark.sql import functions as f"
      ]
    },
    {
      "cell_type": "code",
      "execution_count": 75,
      "outputs": [
        {
          "output_type": "display_data",
          "data": {
            "application/vnd.livy.statement-meta+json": {
              "spark_pool": "tcccibele",
              "session_id": 5,
              "statement_id": 75,
              "state": "finished",
              "livy_statement_state": "available",
              "queued_time": "2021-11-20T18:56:22.3852449Z",
              "session_start_time": null,
              "execution_start_time": "2021-11-20T18:56:22.5161353Z",
              "execution_finish_time": "2021-11-20T18:56:23.3949315Z"
            },
            "text/plain": "StatementMeta(tcccibele, 5, 75, Finished, Available)"
          },
          "metadata": {}
        }
      ],
      "metadata": {},
      "source": [
        "# Definir schema do arquivo\r\n",
        "schema = StructType([ \r\n",
        "    StructField(\"None\", StringType(), True), \r\n",
        "    StructField(\"EscolaridadeVitima\", StringType(), True), \r\n",
        "    StructField(\"Janeiro\", StringType(), True), \r\n",
        "    StructField(\"Fevereiro\", StringType(), True), \r\n",
        "    StructField(\"Março\", StringType(), True), \r\n",
        "    StructField(\"Abril\", StringType(), True), \r\n",
        "    StructField(\"Maio\", StringType(), True), \r\n",
        "    StructField(\"Junho\", StringType(), True), \r\n",
        "    StructField(\"Julho\", StringType(), True), \r\n",
        "    StructField(\"Agosto\", StringType(), True), \r\n",
        "    StructField(\"Setembro\", StringType(), True), \r\n",
        "    StructField(\"Outubro\", StringType(), True), \r\n",
        "    StructField(\"Novembro\", StringType(), True), \r\n",
        "    StructField(\"Dezembro\", StringType(), True), \r\n",
        "    StructField(\"Total\", StringType(), True)\r\n",
        "])"
      ]
    },
    {
      "cell_type": "code",
      "execution_count": 76,
      "outputs": [
        {
          "output_type": "display_data",
          "data": {
            "application/vnd.livy.statement-meta+json": {
              "spark_pool": "tcccibele",
              "session_id": 5,
              "statement_id": 76,
              "state": "finished",
              "livy_statement_state": "available",
              "queued_time": "2021-11-20T18:56:22.4785034Z",
              "session_start_time": null,
              "execution_start_time": "2021-11-20T18:56:23.4939636Z",
              "execution_finish_time": "2021-11-20T18:56:23.6636274Z"
            },
            "text/plain": "StatementMeta(tcccibele, 5, 76, Finished, Available)"
          },
          "metadata": {}
        }
      ],
      "metadata": {
        "jupyter": {
          "source_hidden": false,
          "outputs_hidden": false
        },
        "nteract": {
          "transient": {
            "deleting": false
          }
        }
      },
      "source": [
        "# Ler arquivo de origem da landing zone\r\n",
        "df = spark.read.format(\"csv\") \\\r\n",
        "            .schema(schema) \\\r\n",
        "            .options(quote='\"') \\\r\n",
        "            .load('/landing_zone/2019/Balanco-2019-Ligue180-Escolaridade Vitima.csv')"
      ]
    },
    {
      "cell_type": "code",
      "execution_count": 77,
      "outputs": [
        {
          "output_type": "display_data",
          "data": {
            "application/vnd.livy.statement-meta+json": {
              "spark_pool": "tcccibele",
              "session_id": 5,
              "statement_id": 77,
              "state": "finished",
              "livy_statement_state": "available",
              "queued_time": "2021-11-20T18:56:22.7501Z",
              "session_start_time": null,
              "execution_start_time": "2021-11-20T18:56:23.7672625Z",
              "execution_finish_time": "2021-11-20T18:56:23.920176Z"
            },
            "text/plain": "StatementMeta(tcccibele, 5, 77, Finished, Available)"
          },
          "metadata": {}
        }
      ],
      "metadata": {
        "jupyter": {
          "source_hidden": false,
          "outputs_hidden": false
        },
        "nteract": {
          "transient": {
            "deleting": false
          }
        }
      },
      "source": [
        "# Remover colunas e linhas sem valor para o data lake\r\n",
        "df = df.where((df[1].isNotNull()) \\\r\n",
        "                & (df[1] != 'Total') \\\r\n",
        "                & (df[-1] != 'Total 2019') \\\r\n",
        "                & (df[-1].isNotNull()))\r\n",
        "df = df.drop('None')\r\n",
        "df = df.drop('Total')"
      ]
    },
    {
      "cell_type": "code",
      "execution_count": 78,
      "outputs": [
        {
          "output_type": "display_data",
          "data": {
            "application/vnd.livy.statement-meta+json": {
              "spark_pool": "tcccibele",
              "session_id": 5,
              "statement_id": 78,
              "state": "finished",
              "livy_statement_state": "available",
              "queued_time": "2021-11-20T18:56:23.2483809Z",
              "session_start_time": null,
              "execution_start_time": "2021-11-20T18:56:24.0253164Z",
              "execution_finish_time": "2021-11-20T18:56:24.5254197Z"
            },
            "text/plain": "StatementMeta(tcccibele, 5, 78, Finished, Available)"
          },
          "metadata": {}
        }
      ],
      "metadata": {
        "jupyter": {
          "source_hidden": false,
          "outputs_hidden": false
        },
        "nteract": {
          "transient": {
            "deleting": false
          }
        }
      },
      "source": [
        "#Remove \",\" de todos os campos e substitui null por 0\r\n",
        "names = df.schema.names\r\n",
        "for name in names:\r\n",
        "    if name == 'EscolaridadeVitima':\r\n",
        "        continue\r\n",
        "    df = df.withColumn(name,f.regexp_replace(name,',',''))\r\n",
        "    df = df.withColumn(name, df[name].cast(IntegerType()))\r\n",
        "\r\n",
        "df = df.fillna(0)"
      ]
    },
    {
      "cell_type": "code",
      "execution_count": 79,
      "outputs": [
        {
          "output_type": "display_data",
          "data": {
            "application/vnd.livy.statement-meta+json": {
              "spark_pool": "tcccibele",
              "session_id": 5,
              "statement_id": 79,
              "state": "finished",
              "livy_statement_state": "available",
              "queued_time": "2021-11-20T18:56:23.3949299Z",
              "session_start_time": null,
              "execution_start_time": "2021-11-20T18:56:24.6618594Z",
              "execution_finish_time": "2021-11-20T18:56:26.4420469Z"
            },
            "text/plain": "StatementMeta(tcccibele, 5, 79, Finished, Available)"
          },
          "metadata": {}
        }
      ],
      "metadata": {
        "jupyter": {
          "source_hidden": false,
          "outputs_hidden": false
        },
        "nteract": {
          "transient": {
            "deleting": false
          }
        }
      },
      "source": [
        "# Escrever dados limpos em formato parque no azure storage\r\n",
        "df.write.format('parquet').mode('overwrite').save('/history_zone/2019/EscolaridadeVitima/')"
      ]
    },
    {
      "cell_type": "code",
      "execution_count": 80,
      "outputs": [
        {
          "output_type": "display_data",
          "data": {
            "application/vnd.livy.statement-meta+json": {
              "spark_pool": "tcccibele",
              "session_id": 5,
              "statement_id": 80,
              "state": "finished",
              "livy_statement_state": "available",
              "queued_time": "2021-11-20T18:56:23.8621321Z",
              "session_start_time": null,
              "execution_start_time": "2021-11-20T18:56:26.5908261Z",
              "execution_finish_time": "2021-11-20T18:56:27.6729731Z"
            },
            "text/plain": "StatementMeta(tcccibele, 5, 80, Finished, Available)"
          },
          "metadata": {}
        },
        {
          "output_type": "display_data",
          "data": {
            "text/plain": "               EscolaridadeVitima  Janeiro  ...  Novembro  Dezembro\n0                   Analfabeto(a)      237  ...       151        82\n1   Ensino Fundamental Incompleto     1999  ...      1416       758\n2     Ensino Fundamental completo      611  ...       377       197\n3         Ensino Médio Incompleto      823  ...       610       286\n4           Ensino Médio completo     2421  ...      1784       908\n5                   Nível Técnico        0  ...         0         0\n6      Ensino Superior Incompleto      523  ...       496       241\n7        Ensino Superior completo      786  ...       598       346\n8                   Pós Graduação        0  ...         0         0\n9                  Especialização       85  ...        60        38\n10                       Mestrado       11  ...         7        10\n11                      Doutorado        7  ...         1         0\n12                  Não informado     2046  ...      1188       686\n\n[13 rows x 13 columns]",
            "text/html": "<div>\n<style scoped>\n    .dataframe tbody tr th:only-of-type {\n        vertical-align: middle;\n    }\n\n    .dataframe tbody tr th {\n        vertical-align: top;\n    }\n\n    .dataframe thead th {\n        text-align: right;\n    }\n</style>\n<table border=\"1\" class=\"dataframe\">\n  <thead>\n    <tr style=\"text-align: right;\">\n      <th></th>\n      <th>EscolaridadeVitima</th>\n      <th>Janeiro</th>\n      <th>Fevereiro</th>\n      <th>Março</th>\n      <th>Abril</th>\n      <th>Maio</th>\n      <th>Junho</th>\n      <th>Julho</th>\n      <th>Agosto</th>\n      <th>Setembro</th>\n      <th>Outubro</th>\n      <th>Novembro</th>\n      <th>Dezembro</th>\n    </tr>\n  </thead>\n  <tbody>\n    <tr>\n      <th>0</th>\n      <td>Analfabeto(a)</td>\n      <td>237</td>\n      <td>202</td>\n      <td>201</td>\n      <td>168</td>\n      <td>143</td>\n      <td>141</td>\n      <td>121</td>\n      <td>169</td>\n      <td>161</td>\n      <td>145</td>\n      <td>151</td>\n      <td>82</td>\n    </tr>\n    <tr>\n      <th>1</th>\n      <td>Ensino Fundamental Incompleto</td>\n      <td>1999</td>\n      <td>1691</td>\n      <td>1830</td>\n      <td>1653</td>\n      <td>1629</td>\n      <td>1431</td>\n      <td>1513</td>\n      <td>1756</td>\n      <td>1634</td>\n      <td>1600</td>\n      <td>1416</td>\n      <td>758</td>\n    </tr>\n    <tr>\n      <th>2</th>\n      <td>Ensino Fundamental completo</td>\n      <td>611</td>\n      <td>465</td>\n      <td>497</td>\n      <td>415</td>\n      <td>428</td>\n      <td>396</td>\n      <td>417</td>\n      <td>447</td>\n      <td>440</td>\n      <td>412</td>\n      <td>377</td>\n      <td>197</td>\n    </tr>\n    <tr>\n      <th>3</th>\n      <td>Ensino Médio Incompleto</td>\n      <td>823</td>\n      <td>640</td>\n      <td>761</td>\n      <td>687</td>\n      <td>684</td>\n      <td>523</td>\n      <td>615</td>\n      <td>723</td>\n      <td>608</td>\n      <td>696</td>\n      <td>610</td>\n      <td>286</td>\n    </tr>\n    <tr>\n      <th>4</th>\n      <td>Ensino Médio completo</td>\n      <td>2421</td>\n      <td>1903</td>\n      <td>2062</td>\n      <td>1862</td>\n      <td>1843</td>\n      <td>1653</td>\n      <td>1752</td>\n      <td>2063</td>\n      <td>1928</td>\n      <td>1874</td>\n      <td>1784</td>\n      <td>908</td>\n    </tr>\n    <tr>\n      <th>5</th>\n      <td>Nível Técnico</td>\n      <td>0</td>\n      <td>0</td>\n      <td>0</td>\n      <td>0</td>\n      <td>0</td>\n      <td>0</td>\n      <td>0</td>\n      <td>0</td>\n      <td>0</td>\n      <td>0</td>\n      <td>0</td>\n      <td>0</td>\n    </tr>\n    <tr>\n      <th>6</th>\n      <td>Ensino Superior Incompleto</td>\n      <td>523</td>\n      <td>447</td>\n      <td>477</td>\n      <td>460</td>\n      <td>438</td>\n      <td>410</td>\n      <td>400</td>\n      <td>462</td>\n      <td>491</td>\n      <td>499</td>\n      <td>496</td>\n      <td>241</td>\n    </tr>\n    <tr>\n      <th>7</th>\n      <td>Ensino Superior completo</td>\n      <td>786</td>\n      <td>685</td>\n      <td>758</td>\n      <td>600</td>\n      <td>634</td>\n      <td>562</td>\n      <td>541</td>\n      <td>660</td>\n      <td>661</td>\n      <td>619</td>\n      <td>598</td>\n      <td>346</td>\n    </tr>\n    <tr>\n      <th>8</th>\n      <td>Pós Graduação</td>\n      <td>0</td>\n      <td>0</td>\n      <td>0</td>\n      <td>0</td>\n      <td>0</td>\n      <td>0</td>\n      <td>0</td>\n      <td>0</td>\n      <td>0</td>\n      <td>0</td>\n      <td>0</td>\n      <td>0</td>\n    </tr>\n    <tr>\n      <th>9</th>\n      <td>Especialização</td>\n      <td>85</td>\n      <td>79</td>\n      <td>90</td>\n      <td>72</td>\n      <td>65</td>\n      <td>49</td>\n      <td>63</td>\n      <td>77</td>\n      <td>77</td>\n      <td>75</td>\n      <td>60</td>\n      <td>38</td>\n    </tr>\n    <tr>\n      <th>10</th>\n      <td>Mestrado</td>\n      <td>11</td>\n      <td>10</td>\n      <td>14</td>\n      <td>12</td>\n      <td>14</td>\n      <td>20</td>\n      <td>11</td>\n      <td>12</td>\n      <td>16</td>\n      <td>5</td>\n      <td>7</td>\n      <td>10</td>\n    </tr>\n    <tr>\n      <th>11</th>\n      <td>Doutorado</td>\n      <td>7</td>\n      <td>4</td>\n      <td>3</td>\n      <td>3</td>\n      <td>1</td>\n      <td>2</td>\n      <td>0</td>\n      <td>2</td>\n      <td>1</td>\n      <td>2</td>\n      <td>1</td>\n      <td>0</td>\n    </tr>\n    <tr>\n      <th>12</th>\n      <td>Não informado</td>\n      <td>2046</td>\n      <td>1543</td>\n      <td>1747</td>\n      <td>1311</td>\n      <td>1430</td>\n      <td>1113</td>\n      <td>1009</td>\n      <td>1257</td>\n      <td>1295</td>\n      <td>1353</td>\n      <td>1188</td>\n      <td>686</td>\n    </tr>\n  </tbody>\n</table>\n</div>"
          },
          "metadata": {}
        }
      ],
      "metadata": {
        "jupyter": {
          "source_hidden": false,
          "outputs_hidden": false
        },
        "nteract": {
          "transient": {
            "deleting": false
          }
        }
      },
      "source": [
        "df = spark.read.parquet('/history_zone/2019/EscolaridadeVitima/')\r\n",
        "df.toPandas()"
      ]
    }
  ],
  "metadata": {
    "description": null,
    "save_output": true,
    "kernelspec": {
      "name": "synapse_pyspark",
      "display_name": "Synapse PySpark"
    },
    "language_info": {
      "name": "python"
    },
    "synapse_widget": {
      "version": "0.1",
      "state": {}
    }
  }
}