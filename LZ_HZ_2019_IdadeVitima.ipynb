{
  "nbformat": 4,
  "nbformat_minor": 2,
  "metadata": {
    "kernelspec": {
      "name": "synapse_pyspark",
      "display_name": "Synapse PySpark"
    },
    "language_info": {
      "name": "python"
    },
    "description": null,
    "save_output": true,
    "synapse_widget": {
      "version": "0.1",
      "state": {}
    }
  },
  "cells": [
    {
      "cell_type": "code",
      "execution_count": 1,
      "outputs": [
        {
          "output_type": "display_data",
          "data": {
            "application/vnd.livy.statement-meta+json": {
              "spark_pool": "tcccibele",
              "session_id": 6,
              "statement_id": 1,
              "state": "finished",
              "livy_statement_state": "available",
              "queued_time": "2021-11-20T19:03:43.1845813Z",
              "session_start_time": "2021-11-20T19:03:43.2195411Z",
              "execution_start_time": "2021-11-20T19:04:42.2023275Z",
              "execution_finish_time": "2021-11-20T19:04:42.3535909Z"
            },
            "text/plain": "StatementMeta(tcccibele, 6, 1, Finished, Available)"
          },
          "metadata": {}
        }
      ],
      "metadata": {
        "jupyter": {
          "source_hidden": false,
          "outputs_hidden": false
        },
        "nteract": {
          "transient": {
            "deleting": false
          }
        }
      },
      "source": [
        "from pyspark.sql.types import StructField, StructType, IntegerType, StringType\r\n",
        "from pyspark.sql import functions as f"
      ]
    },
    {
      "cell_type": "code",
      "execution_count": 2,
      "outputs": [
        {
          "output_type": "display_data",
          "data": {
            "application/vnd.livy.statement-meta+json": {
              "spark_pool": "tcccibele",
              "session_id": 6,
              "statement_id": 2,
              "state": "finished",
              "livy_statement_state": "available",
              "queued_time": "2021-11-20T19:03:43.1881467Z",
              "session_start_time": null,
              "execution_start_time": "2021-11-20T19:04:42.4482497Z",
              "execution_finish_time": "2021-11-20T19:04:42.4483888Z"
            },
            "text/plain": "StatementMeta(tcccibele, 6, 2, Finished, Available)"
          },
          "metadata": {}
        }
      ],
      "metadata": {},
      "source": [
        "# Definir schema do arquivo\r\n",
        "schema = StructType([ \r\n",
        "    StructField(\"None\", StringType(), True), \r\n",
        "    StructField(\"FaixaEtariaVitima\", StringType(), True), \r\n",
        "    StructField(\"Janeiro\", StringType(), True), \r\n",
        "    StructField(\"Fevereiro\", StringType(), True), \r\n",
        "    StructField(\"Março\", StringType(), True), \r\n",
        "    StructField(\"Abril\", StringType(), True), \r\n",
        "    StructField(\"Maio\", StringType(), True), \r\n",
        "    StructField(\"Junho\", StringType(), True), \r\n",
        "    StructField(\"Julho\", StringType(), True), \r\n",
        "    StructField(\"Agosto\", StringType(), True), \r\n",
        "    StructField(\"Setembro\", StringType(), True), \r\n",
        "    StructField(\"Outubro\", StringType(), True), \r\n",
        "    StructField(\"Novembro\", StringType(), True), \r\n",
        "    StructField(\"Dezembro\", StringType(), True), \r\n",
        "    StructField(\"Total\", StringType(), True)\r\n",
        "])"
      ]
    },
    {
      "cell_type": "code",
      "execution_count": 3,
      "outputs": [
        {
          "output_type": "display_data",
          "data": {
            "application/vnd.livy.statement-meta+json": {
              "spark_pool": "tcccibele",
              "session_id": 6,
              "statement_id": 3,
              "state": "finished",
              "livy_statement_state": "available",
              "queued_time": "2021-11-20T19:03:43.1951379Z",
              "session_start_time": null,
              "execution_start_time": "2021-11-20T19:04:42.5458199Z",
              "execution_finish_time": "2021-11-20T19:04:47.7850066Z"
            },
            "text/plain": "StatementMeta(tcccibele, 6, 3, Finished, Available)"
          },
          "metadata": {}
        }
      ],
      "metadata": {
        "jupyter": {
          "source_hidden": false,
          "outputs_hidden": false
        },
        "nteract": {
          "transient": {
            "deleting": false
          }
        }
      },
      "source": [
        "# Ler arquivo de origem da landing zone\r\n",
        "df = spark.read.format(\"csv\") \\\r\n",
        "            .schema(schema) \\\r\n",
        "            .options(quote='\"') \\\r\n",
        "            .load('/landing_zone/2019/Balanco-2019-Ligue180-Idade Vitima.csv')"
      ]
    },
    {
      "cell_type": "code",
      "execution_count": 4,
      "outputs": [
        {
          "output_type": "display_data",
          "data": {
            "application/vnd.livy.statement-meta+json": {
              "spark_pool": "tcccibele",
              "session_id": 6,
              "statement_id": 4,
              "state": "finished",
              "livy_statement_state": "available",
              "queued_time": "2021-11-20T19:03:43.2009926Z",
              "session_start_time": null,
              "execution_start_time": "2021-11-20T19:04:47.8727479Z",
              "execution_finish_time": "2021-11-20T19:04:48.3752311Z"
            },
            "text/plain": "StatementMeta(tcccibele, 6, 4, Finished, Available)"
          },
          "metadata": {}
        }
      ],
      "metadata": {
        "jupyter": {
          "source_hidden": false,
          "outputs_hidden": false
        },
        "nteract": {
          "transient": {
            "deleting": false
          }
        }
      },
      "source": [
        "# Remover colunas e linhas sem valor para o data lake\r\n",
        "df = df.where((df[1].isNotNull()) \\\r\n",
        "                & (df[1] != 'Total') \\\r\n",
        "                & (df[-1] != 'Total 2019') \\\r\n",
        "                & (df[-1].isNotNull()))\r\n",
        "df = df.drop('None')\r\n",
        "df = df.drop('Total')"
      ]
    },
    {
      "cell_type": "code",
      "execution_count": 5,
      "outputs": [
        {
          "output_type": "display_data",
          "data": {
            "application/vnd.livy.statement-meta+json": {
              "spark_pool": "tcccibele",
              "session_id": 6,
              "statement_id": 5,
              "state": "finished",
              "livy_statement_state": "available",
              "queued_time": "2021-11-20T19:03:43.2059222Z",
              "session_start_time": null,
              "execution_start_time": "2021-11-20T19:04:48.4709565Z",
              "execution_finish_time": "2021-11-20T19:04:49.4976332Z"
            },
            "text/plain": "StatementMeta(tcccibele, 6, 5, Finished, Available)"
          },
          "metadata": {}
        }
      ],
      "metadata": {
        "jupyter": {
          "source_hidden": false,
          "outputs_hidden": false
        },
        "nteract": {
          "transient": {
            "deleting": false
          }
        }
      },
      "source": [
        "# Remover \",\" de todos os campos e substitui null por 0\r\n",
        "names = df.schema.names\r\n",
        "for name in names:\r\n",
        "    if name == 'FaixaEtariaVitima':\r\n",
        "        continue\r\n",
        "    df = df.withColumn(name,f.regexp_replace(name,',',''))\r\n",
        "    df = df.withColumn(name, df[name].cast(IntegerType()))\r\n",
        "\r\n",
        "df = df.fillna(0)"
      ]
    },
    {
      "cell_type": "code",
      "execution_count": 6,
      "outputs": [
        {
          "output_type": "display_data",
          "data": {
            "application/vnd.livy.statement-meta+json": {
              "spark_pool": "tcccibele",
              "session_id": 6,
              "statement_id": 6,
              "state": "finished",
              "livy_statement_state": "available",
              "queued_time": "2021-11-20T19:03:43.2119905Z",
              "session_start_time": null,
              "execution_start_time": "2021-11-20T19:04:49.5943288Z",
              "execution_finish_time": "2021-11-20T19:05:05.3594271Z"
            },
            "text/plain": "StatementMeta(tcccibele, 6, 6, Finished, Available)"
          },
          "metadata": {}
        }
      ],
      "metadata": {
        "jupyter": {
          "source_hidden": false,
          "outputs_hidden": false
        },
        "nteract": {
          "transient": {
            "deleting": false
          }
        }
      },
      "source": [
        "# Escrever dados limpos em formato parque no azure storage\r\n",
        "df.write.format('parquet').mode('overwrite').save('/history_zone/2019/IdadeVitima/')"
      ]
    },
    {
      "cell_type": "code",
      "execution_count": 7,
      "outputs": [
        {
          "output_type": "display_data",
          "data": {
            "application/vnd.livy.statement-meta+json": {
              "spark_pool": "tcccibele",
              "session_id": 6,
              "statement_id": 7,
              "state": "finished",
              "livy_statement_state": "available",
              "queued_time": "2021-11-20T19:03:43.215858Z",
              "session_start_time": null,
              "execution_start_time": "2021-11-20T19:05:05.4535821Z",
              "execution_finish_time": "2021-11-20T19:05:09.3525927Z"
            },
            "text/plain": "StatementMeta(tcccibele, 6, 7, Finished, Available)"
          },
          "metadata": {}
        },
        {
          "output_type": "display_data",
          "data": {
            "text/plain": "   FaixaEtariaVitima  Janeiro  Fevereiro  ...  Outubro  Novembro  Dezembro\n0         0 a 3 anos        0          0  ...        0         0         0\n1         4 a 7 anos        1          0  ...        0         2         0\n2        8 a 11 anos        1          0  ...        0         0         0\n3       12 a 14 anos        5          2  ...        1         1         0\n4       15 a 17 anos       13          8  ...        7         0         4\n5       18 a 24 anos     1556       1296  ...     1249      1196       586\n6       25 a 30 anos     1437       1137  ...     1253      1089       576\n7       31 a 35 anos     1370        998  ...      888       881       449\n8       36 a 40 anos     1389       1131  ...     1067       998       488\n9       41 a 45 anos      773        774  ...      790       655       362\n10      46 a 50 anos      686        527  ...      494       466       268\n11      51 a 55 anos      549        397  ...      401       328       210\n12      56 a 60 anos      396        318  ...      303       276       163\n13      61 a 65 anos      318        219  ...      178       188        99\n14      66 a 70 anos      204        161  ...      142       139        73\n15  Maior de 70 anos      464        360  ...      244       251       138\n16     Não Informado      387        341  ...      263       218       136\n\n[17 rows x 13 columns]",
            "text/html": "<div>\n<style scoped>\n    .dataframe tbody tr th:only-of-type {\n        vertical-align: middle;\n    }\n\n    .dataframe tbody tr th {\n        vertical-align: top;\n    }\n\n    .dataframe thead th {\n        text-align: right;\n    }\n</style>\n<table border=\"1\" class=\"dataframe\">\n  <thead>\n    <tr style=\"text-align: right;\">\n      <th></th>\n      <th>FaixaEtariaVitima</th>\n      <th>Janeiro</th>\n      <th>Fevereiro</th>\n      <th>Março</th>\n      <th>Abril</th>\n      <th>Maio</th>\n      <th>Junho</th>\n      <th>Julho</th>\n      <th>Agosto</th>\n      <th>Setembro</th>\n      <th>Outubro</th>\n      <th>Novembro</th>\n      <th>Dezembro</th>\n    </tr>\n  </thead>\n  <tbody>\n    <tr>\n      <th>0</th>\n      <td>0 a 3 anos</td>\n      <td>0</td>\n      <td>0</td>\n      <td>0</td>\n      <td>1</td>\n      <td>0</td>\n      <td>0</td>\n      <td>0</td>\n      <td>1</td>\n      <td>0</td>\n      <td>0</td>\n      <td>0</td>\n      <td>0</td>\n    </tr>\n    <tr>\n      <th>1</th>\n      <td>4 a 7 anos</td>\n      <td>1</td>\n      <td>0</td>\n      <td>1</td>\n      <td>0</td>\n      <td>0</td>\n      <td>0</td>\n      <td>0</td>\n      <td>0</td>\n      <td>0</td>\n      <td>0</td>\n      <td>2</td>\n      <td>0</td>\n    </tr>\n    <tr>\n      <th>2</th>\n      <td>8 a 11 anos</td>\n      <td>1</td>\n      <td>0</td>\n      <td>0</td>\n      <td>0</td>\n      <td>0</td>\n      <td>0</td>\n      <td>0</td>\n      <td>1</td>\n      <td>2</td>\n      <td>0</td>\n      <td>0</td>\n      <td>0</td>\n    </tr>\n    <tr>\n      <th>3</th>\n      <td>12 a 14 anos</td>\n      <td>5</td>\n      <td>2</td>\n      <td>1</td>\n      <td>1</td>\n      <td>1</td>\n      <td>0</td>\n      <td>0</td>\n      <td>1</td>\n      <td>2</td>\n      <td>1</td>\n      <td>1</td>\n      <td>0</td>\n    </tr>\n    <tr>\n      <th>4</th>\n      <td>15 a 17 anos</td>\n      <td>13</td>\n      <td>8</td>\n      <td>3</td>\n      <td>9</td>\n      <td>7</td>\n      <td>6</td>\n      <td>0</td>\n      <td>5</td>\n      <td>7</td>\n      <td>7</td>\n      <td>0</td>\n      <td>4</td>\n    </tr>\n    <tr>\n      <th>5</th>\n      <td>18 a 24 anos</td>\n      <td>1556</td>\n      <td>1296</td>\n      <td>1440</td>\n      <td>1275</td>\n      <td>1303</td>\n      <td>1062</td>\n      <td>1107</td>\n      <td>1282</td>\n      <td>1241</td>\n      <td>1249</td>\n      <td>1196</td>\n      <td>586</td>\n    </tr>\n    <tr>\n      <th>6</th>\n      <td>25 a 30 anos</td>\n      <td>1437</td>\n      <td>1137</td>\n      <td>1441</td>\n      <td>1300</td>\n      <td>1262</td>\n      <td>1096</td>\n      <td>1162</td>\n      <td>1255</td>\n      <td>1146</td>\n      <td>1253</td>\n      <td>1089</td>\n      <td>576</td>\n    </tr>\n    <tr>\n      <th>7</th>\n      <td>31 a 35 anos</td>\n      <td>1370</td>\n      <td>998</td>\n      <td>1049</td>\n      <td>946</td>\n      <td>930</td>\n      <td>837</td>\n      <td>843</td>\n      <td>1017</td>\n      <td>977</td>\n      <td>888</td>\n      <td>881</td>\n      <td>449</td>\n    </tr>\n    <tr>\n      <th>8</th>\n      <td>36 a 40 anos</td>\n      <td>1389</td>\n      <td>1131</td>\n      <td>1179</td>\n      <td>1034</td>\n      <td>1022</td>\n      <td>896</td>\n      <td>853</td>\n      <td>1046</td>\n      <td>1103</td>\n      <td>1067</td>\n      <td>998</td>\n      <td>488</td>\n    </tr>\n    <tr>\n      <th>9</th>\n      <td>41 a 45 anos</td>\n      <td>773</td>\n      <td>774</td>\n      <td>844</td>\n      <td>701</td>\n      <td>734</td>\n      <td>646</td>\n      <td>692</td>\n      <td>819</td>\n      <td>827</td>\n      <td>790</td>\n      <td>655</td>\n      <td>362</td>\n    </tr>\n    <tr>\n      <th>10</th>\n      <td>46 a 50 anos</td>\n      <td>686</td>\n      <td>527</td>\n      <td>594</td>\n      <td>487</td>\n      <td>517</td>\n      <td>477</td>\n      <td>465</td>\n      <td>531</td>\n      <td>507</td>\n      <td>494</td>\n      <td>466</td>\n      <td>268</td>\n    </tr>\n    <tr>\n      <th>11</th>\n      <td>51 a 55 anos</td>\n      <td>549</td>\n      <td>397</td>\n      <td>433</td>\n      <td>363</td>\n      <td>329</td>\n      <td>326</td>\n      <td>327</td>\n      <td>425</td>\n      <td>372</td>\n      <td>401</td>\n      <td>328</td>\n      <td>210</td>\n    </tr>\n    <tr>\n      <th>12</th>\n      <td>56 a 60 anos</td>\n      <td>396</td>\n      <td>318</td>\n      <td>341</td>\n      <td>257</td>\n      <td>315</td>\n      <td>263</td>\n      <td>275</td>\n      <td>369</td>\n      <td>318</td>\n      <td>303</td>\n      <td>276</td>\n      <td>163</td>\n    </tr>\n    <tr>\n      <th>13</th>\n      <td>61 a 65 anos</td>\n      <td>318</td>\n      <td>219</td>\n      <td>256</td>\n      <td>200</td>\n      <td>197</td>\n      <td>178</td>\n      <td>159</td>\n      <td>216</td>\n      <td>202</td>\n      <td>178</td>\n      <td>188</td>\n      <td>99</td>\n    </tr>\n    <tr>\n      <th>14</th>\n      <td>66 a 70 anos</td>\n      <td>204</td>\n      <td>161</td>\n      <td>168</td>\n      <td>146</td>\n      <td>156</td>\n      <td>114</td>\n      <td>124</td>\n      <td>120</td>\n      <td>134</td>\n      <td>142</td>\n      <td>139</td>\n      <td>73</td>\n    </tr>\n    <tr>\n      <th>15</th>\n      <td>Maior de 70 anos</td>\n      <td>464</td>\n      <td>360</td>\n      <td>341</td>\n      <td>280</td>\n      <td>284</td>\n      <td>204</td>\n      <td>234</td>\n      <td>271</td>\n      <td>237</td>\n      <td>244</td>\n      <td>251</td>\n      <td>138</td>\n    </tr>\n    <tr>\n      <th>16</th>\n      <td>Não Informado</td>\n      <td>387</td>\n      <td>341</td>\n      <td>349</td>\n      <td>243</td>\n      <td>252</td>\n      <td>195</td>\n      <td>201</td>\n      <td>269</td>\n      <td>237</td>\n      <td>263</td>\n      <td>218</td>\n      <td>136</td>\n    </tr>\n  </tbody>\n</table>\n</div>"
          },
          "metadata": {}
        }
      ],
      "metadata": {
        "jupyter": {
          "source_hidden": false,
          "outputs_hidden": false
        },
        "nteract": {
          "transient": {
            "deleting": false
          }
        }
      },
      "source": [
        "df = spark.read.parquet('/history_zone/2019/IdadeVitima/')\r\n",
        "df.toPandas()"
      ]
    }
  ]
}